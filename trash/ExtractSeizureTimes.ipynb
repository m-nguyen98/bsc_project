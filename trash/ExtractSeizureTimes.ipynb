{
 "cells": [
  {
   "cell_type": "code",
   "execution_count": 1,
   "metadata": {},
   "outputs": [],
   "source": [
    "\n",
    "import os\n",
    "import re\n",
    "import random\n",
    "import pprint\n",
    "import mne\n",
    "from mne.io.edf.edf import RawEDF\n",
    "import numpy as np\n",
    "from datetime import datetime\n",
    "import pandas as pd\n",
    "import pywt\n",
    "from scipy.stats import skew\n",
    "import math\n"
   ]
  },
  {
   "cell_type": "code",
   "execution_count": 2,
   "metadata": {},
   "outputs": [],
   "source": [
    "rootdir = f'{os.getcwd()}/data/'\n",
    "case = 'chb01'\n",
    "\n",
    "file_path = f'{rootdir}{case}/{case}-summary.txt'\n"
   ]
  },
  {
   "cell_type": "code",
   "execution_count": 3,
   "metadata": {},
   "outputs": [],
   "source": [
    "def summary(patient):\n",
    "    rootdir = f'{os.getcwd()}/data/'\n",
    "    case = patient\n",
    "    file_path = f'{rootdir}{case}/{case}-summary.txt'\n",
    "    file_metadata = []\n",
    "    with open(file_path) as f:\n",
    "        content_str = f.read()\n",
    "        regex = re.compile(r'^\\Z|\\*+') # match empty string or literal asterisks\n",
    "        filtered = [x for x in content_str.split('\\n') if not regex.search(x)]\n",
    "        regex = re.compile('Channel \\d+') # match channel numbers\n",
    "        channels = [x.split(':')[-1].strip() for x in filtered if regex.search(x)]\n",
    "        regex = re.compile('Data Sampling Rate:')\n",
    "        fs = int([x.split(':')[-1].strip() for x in filtered if regex.search(x)][0].split(' ')[0])\n",
    "        regex = re.compile('^(?!Channel|Data).') # match file names\n",
    "        file_metas = [x for x in filtered if regex.findall(x)]\n",
    "        file_meta = {}\n",
    "        for x in file_metas:\n",
    "            k, v = x.partition(':')[::2]\n",
    "\n",
    "            if k == 'Seizure Start Time':\n",
    "                file_meta['Seizure Start Time'] = v\n",
    "            if k == 'Seizure End Time':\n",
    "                file_meta['Seizure End Time'] = v\n",
    "                tup_meta = {'File Name': file_meta['File Name'], \n",
    "                                'File Start Time': file_meta['File Start Time'], \n",
    "                                'File End Time': file_meta['File End Time'],\n",
    "                                'Number of Seizures in File': file_meta['Number of Seizures in File'],\n",
    "                                'Seizure Start Time': file_meta['Seizure Start Time'],\n",
    "                                'Seizure End Time': file_meta['Seizure End Time']\n",
    "                            }\n",
    "                file_metadata.append(tup_meta)\n",
    "\n",
    "            if k == 'File Name':\n",
    "                file_meta['File Name'] = v.strip()\n",
    "            if k == 'File Start Time':\n",
    "                file_meta['File Start Time'] = v.strip()\n",
    "            if k == 'File End Time':\n",
    "                file_meta['File End Time'] = v.strip()\n",
    "            if k == 'Number of Seizures in File':\n",
    "                if int(v) == 0:\n",
    "                    if 'Seizure End Time' in file_meta:\n",
    "                        del file_meta['Seizure End Time']\n",
    "                    if 'Seizure Start Time' in file_meta:\n",
    "                        del file_meta['Seizure Start Time']\n",
    "                    file_meta['Number of Seizures in File'] = 0\n",
    "                    tup_meta = {'File Name': file_meta['File Name'], \n",
    "                                'File Start Time': file_meta['File Start Time'], \n",
    "                                'File End Time': file_meta['File End Time'],\n",
    "                                'Number of Seizures in File': file_meta['Number of Seizures in File']\n",
    "                            }\n",
    "                    file_metadata.append(tup_meta)\n",
    "                if int(v) > 0:\n",
    "                    file_meta['Number of Seizures in File'] = int(v.strip())"
   ]
  },
  {
   "cell_type": "code",
   "execution_count": 51,
   "metadata": {},
   "outputs": [
    {
     "ename": "ValueError",
     "evalue": "Wrong number of items passed 3, placement implies 1",
     "output_type": "error",
     "traceback": [
      "\u001b[0;31m---------------------------------------------------------------------------\u001b[0m",
      "\u001b[0;31mKeyError\u001b[0m                                  Traceback (most recent call last)",
      "File \u001b[0;32m~/opt/anaconda3/lib/python3.8/site-packages/pandas/core/indexes/base.py:2895\u001b[0m, in \u001b[0;36mIndex.get_loc\u001b[0;34m(self, key, method, tolerance)\u001b[0m\n\u001b[1;32m   2894\u001b[0m \u001b[39mtry\u001b[39;00m:\n\u001b[0;32m-> 2895\u001b[0m     \u001b[39mreturn\u001b[39;00m \u001b[39mself\u001b[39;49m\u001b[39m.\u001b[39;49m_engine\u001b[39m.\u001b[39;49mget_loc(casted_key)\n\u001b[1;32m   2896\u001b[0m \u001b[39mexcept\u001b[39;00m \u001b[39mKeyError\u001b[39;00m \u001b[39mas\u001b[39;00m err:\n",
      "File \u001b[0;32mpandas/_libs/index.pyx:70\u001b[0m, in \u001b[0;36mpandas._libs.index.IndexEngine.get_loc\u001b[0;34m()\u001b[0m\n",
      "File \u001b[0;32mpandas/_libs/index.pyx:101\u001b[0m, in \u001b[0;36mpandas._libs.index.IndexEngine.get_loc\u001b[0;34m()\u001b[0m\n",
      "File \u001b[0;32mpandas/_libs/hashtable_class_helper.pxi:1675\u001b[0m, in \u001b[0;36mpandas._libs.hashtable.PyObjectHashTable.get_item\u001b[0;34m()\u001b[0m\n",
      "File \u001b[0;32mpandas/_libs/hashtable_class_helper.pxi:1683\u001b[0m, in \u001b[0;36mpandas._libs.hashtable.PyObjectHashTable.get_item\u001b[0;34m()\u001b[0m\n",
      "\u001b[0;31mKeyError\u001b[0m: 'Seizure Duration'",
      "\nThe above exception was the direct cause of the following exception:\n",
      "\u001b[0;31mKeyError\u001b[0m                                  Traceback (most recent call last)",
      "File \u001b[0;32m~/opt/anaconda3/lib/python3.8/site-packages/pandas/core/generic.py:3574\u001b[0m, in \u001b[0;36mNDFrame._set_item\u001b[0;34m(self, key, value)\u001b[0m\n\u001b[1;32m   3573\u001b[0m \u001b[39mtry\u001b[39;00m:\n\u001b[0;32m-> 3574\u001b[0m     loc \u001b[39m=\u001b[39m \u001b[39mself\u001b[39;49m\u001b[39m.\u001b[39;49m_info_axis\u001b[39m.\u001b[39;49mget_loc(key)\n\u001b[1;32m   3575\u001b[0m \u001b[39mexcept\u001b[39;00m \u001b[39mKeyError\u001b[39;00m:\n\u001b[1;32m   3576\u001b[0m     \u001b[39m# This item wasn't present, just insert at end\u001b[39;00m\n",
      "File \u001b[0;32m~/opt/anaconda3/lib/python3.8/site-packages/pandas/core/indexes/base.py:2897\u001b[0m, in \u001b[0;36mIndex.get_loc\u001b[0;34m(self, key, method, tolerance)\u001b[0m\n\u001b[1;32m   2896\u001b[0m     \u001b[39mexcept\u001b[39;00m \u001b[39mKeyError\u001b[39;00m \u001b[39mas\u001b[39;00m err:\n\u001b[0;32m-> 2897\u001b[0m         \u001b[39mraise\u001b[39;00m \u001b[39mKeyError\u001b[39;00m(key) \u001b[39mfrom\u001b[39;00m \u001b[39merr\u001b[39;00m\n\u001b[1;32m   2899\u001b[0m \u001b[39mif\u001b[39;00m tolerance \u001b[39mis\u001b[39;00m \u001b[39mnot\u001b[39;00m \u001b[39mNone\u001b[39;00m:\n",
      "\u001b[0;31mKeyError\u001b[0m: 'Seizure Duration'",
      "\nDuring handling of the above exception, another exception occurred:\n",
      "\u001b[0;31mValueError\u001b[0m                                Traceback (most recent call last)",
      "Cell \u001b[0;32mIn [51], line 17\u001b[0m\n\u001b[1;32m     14\u001b[0m \u001b[38;5;28;01mfor\u001b[39;00m i \u001b[38;5;129;01min\u001b[39;00m \u001b[38;5;28mrange\u001b[39m(\u001b[38;5;28mlen\u001b[39m(temp_ss)):\n\u001b[1;32m     15\u001b[0m     df\u001b[38;5;241m.\u001b[39mloc[\u001b[38;5;28mlen\u001b[39m(df)] \u001b[38;5;241m=\u001b[39m [temp_file[i], temp_ss[i], temp_es[i]]      \n\u001b[0;32m---> 17\u001b[0m \u001b[43mdf\u001b[49m\u001b[43m[\u001b[49m\u001b[38;5;124;43m'\u001b[39;49m\u001b[38;5;124;43mSeizure Duration\u001b[39;49m\u001b[38;5;124;43m'\u001b[39;49m\u001b[43m]\u001b[49m \u001b[38;5;241m=\u001b[39m df\u001b[38;5;241m.\u001b[39mapply(\u001b[38;5;28;01mlambda\u001b[39;00m x: x[\u001b[38;5;124m'\u001b[39m\u001b[38;5;124mSeizure End\u001b[39m\u001b[38;5;124m'\u001b[39m] \u001b[38;5;241m-\u001b[39m x[\u001b[38;5;124m'\u001b[39m\u001b[38;5;124mSeizure Start\u001b[39m\u001b[38;5;124m'\u001b[39m], axis\u001b[38;5;241m=\u001b[39m\u001b[38;5;241m1\u001b[39m)\n\u001b[1;32m     18\u001b[0m df\n",
      "File \u001b[0;32m~/opt/anaconda3/lib/python3.8/site-packages/pandas/core/frame.py:3040\u001b[0m, in \u001b[0;36mDataFrame.__setitem__\u001b[0;34m(self, key, value)\u001b[0m\n\u001b[1;32m   3037\u001b[0m     \u001b[39mself\u001b[39m\u001b[39m.\u001b[39m_setitem_array(key, value)\n\u001b[1;32m   3038\u001b[0m \u001b[39melse\u001b[39;00m:\n\u001b[1;32m   3039\u001b[0m     \u001b[39m# set column\u001b[39;00m\n\u001b[0;32m-> 3040\u001b[0m     \u001b[39mself\u001b[39;49m\u001b[39m.\u001b[39;49m_set_item(key, value)\n",
      "File \u001b[0;32m~/opt/anaconda3/lib/python3.8/site-packages/pandas/core/frame.py:3117\u001b[0m, in \u001b[0;36mDataFrame._set_item\u001b[0;34m(self, key, value)\u001b[0m\n\u001b[1;32m   3115\u001b[0m \u001b[39mself\u001b[39m\u001b[39m.\u001b[39m_ensure_valid_index(value)\n\u001b[1;32m   3116\u001b[0m value \u001b[39m=\u001b[39m \u001b[39mself\u001b[39m\u001b[39m.\u001b[39m_sanitize_column(key, value)\n\u001b[0;32m-> 3117\u001b[0m NDFrame\u001b[39m.\u001b[39;49m_set_item(\u001b[39mself\u001b[39;49m, key, value)\n\u001b[1;32m   3119\u001b[0m \u001b[39m# check if we are modifying a copy\u001b[39;00m\n\u001b[1;32m   3120\u001b[0m \u001b[39m# try to set first as we want an invalid\u001b[39;00m\n\u001b[1;32m   3121\u001b[0m \u001b[39m# value exception to occur first\u001b[39;00m\n\u001b[1;32m   3122\u001b[0m \u001b[39mif\u001b[39;00m \u001b[39mlen\u001b[39m(\u001b[39mself\u001b[39m):\n",
      "File \u001b[0;32m~/opt/anaconda3/lib/python3.8/site-packages/pandas/core/generic.py:3577\u001b[0m, in \u001b[0;36mNDFrame._set_item\u001b[0;34m(self, key, value)\u001b[0m\n\u001b[1;32m   3574\u001b[0m     loc \u001b[39m=\u001b[39m \u001b[39mself\u001b[39m\u001b[39m.\u001b[39m_info_axis\u001b[39m.\u001b[39mget_loc(key)\n\u001b[1;32m   3575\u001b[0m \u001b[39mexcept\u001b[39;00m \u001b[39mKeyError\u001b[39;00m:\n\u001b[1;32m   3576\u001b[0m     \u001b[39m# This item wasn't present, just insert at end\u001b[39;00m\n\u001b[0;32m-> 3577\u001b[0m     \u001b[39mself\u001b[39;49m\u001b[39m.\u001b[39;49m_mgr\u001b[39m.\u001b[39;49minsert(\u001b[39mlen\u001b[39;49m(\u001b[39mself\u001b[39;49m\u001b[39m.\u001b[39;49m_info_axis), key, value)\n\u001b[1;32m   3578\u001b[0m     \u001b[39mreturn\u001b[39;00m\n\u001b[1;32m   3580\u001b[0m NDFrame\u001b[39m.\u001b[39m_iset_item(\u001b[39mself\u001b[39m, loc, value)\n",
      "File \u001b[0;32m~/opt/anaconda3/lib/python3.8/site-packages/pandas/core/internals/managers.py:1189\u001b[0m, in \u001b[0;36mBlockManager.insert\u001b[0;34m(self, loc, item, value, allow_duplicates)\u001b[0m\n\u001b[1;32m   1185\u001b[0m \u001b[39mif\u001b[39;00m value\u001b[39m.\u001b[39mndim \u001b[39m==\u001b[39m \u001b[39mself\u001b[39m\u001b[39m.\u001b[39mndim \u001b[39m-\u001b[39m \u001b[39m1\u001b[39m \u001b[39mand\u001b[39;00m \u001b[39mnot\u001b[39;00m is_extension_array_dtype(value\u001b[39m.\u001b[39mdtype):\n\u001b[1;32m   1186\u001b[0m     \u001b[39m# TODO(EA2D): special case not needed with 2D EAs\u001b[39;00m\n\u001b[1;32m   1187\u001b[0m     value \u001b[39m=\u001b[39m _safe_reshape(value, (\u001b[39m1\u001b[39m,) \u001b[39m+\u001b[39m value\u001b[39m.\u001b[39mshape)\n\u001b[0;32m-> 1189\u001b[0m block \u001b[39m=\u001b[39m make_block(values\u001b[39m=\u001b[39;49mvalue, ndim\u001b[39m=\u001b[39;49m\u001b[39mself\u001b[39;49m\u001b[39m.\u001b[39;49mndim, placement\u001b[39m=\u001b[39;49m\u001b[39mslice\u001b[39;49m(loc, loc \u001b[39m+\u001b[39;49m \u001b[39m1\u001b[39;49m))\n\u001b[1;32m   1191\u001b[0m \u001b[39mfor\u001b[39;00m blkno, count \u001b[39min\u001b[39;00m _fast_count_smallints(\u001b[39mself\u001b[39m\u001b[39m.\u001b[39mblknos[loc:]):\n\u001b[1;32m   1192\u001b[0m     blk \u001b[39m=\u001b[39m \u001b[39mself\u001b[39m\u001b[39m.\u001b[39mblocks[blkno]\n",
      "File \u001b[0;32m~/opt/anaconda3/lib/python3.8/site-packages/pandas/core/internals/blocks.py:2722\u001b[0m, in \u001b[0;36mmake_block\u001b[0;34m(values, placement, klass, ndim, dtype)\u001b[0m\n\u001b[1;32m   2717\u001b[0m \u001b[39melif\u001b[39;00m klass \u001b[39mis\u001b[39;00m DatetimeTZBlock \u001b[39mand\u001b[39;00m \u001b[39mnot\u001b[39;00m is_datetime64tz_dtype(values\u001b[39m.\u001b[39mdtype):\n\u001b[1;32m   2718\u001b[0m     \u001b[39m# TODO: This is no longer hit internally; does it need to be retained\u001b[39;00m\n\u001b[1;32m   2719\u001b[0m     \u001b[39m#  for e.g. pyarrow?\u001b[39;00m\n\u001b[1;32m   2720\u001b[0m     values \u001b[39m=\u001b[39m DatetimeArray\u001b[39m.\u001b[39m_simple_new(values, dtype\u001b[39m=\u001b[39mdtype)\n\u001b[0;32m-> 2722\u001b[0m \u001b[39mreturn\u001b[39;00m klass(values, ndim\u001b[39m=\u001b[39;49mndim, placement\u001b[39m=\u001b[39;49mplacement)\n",
      "File \u001b[0;32m~/opt/anaconda3/lib/python3.8/site-packages/pandas/core/internals/blocks.py:130\u001b[0m, in \u001b[0;36mBlock.__init__\u001b[0;34m(self, values, placement, ndim)\u001b[0m\n\u001b[1;32m    127\u001b[0m \u001b[39mself\u001b[39m\u001b[39m.\u001b[39mvalues \u001b[39m=\u001b[39m values\n\u001b[1;32m    129\u001b[0m \u001b[39mif\u001b[39;00m \u001b[39mself\u001b[39m\u001b[39m.\u001b[39m_validate_ndim \u001b[39mand\u001b[39;00m \u001b[39mself\u001b[39m\u001b[39m.\u001b[39mndim \u001b[39mand\u001b[39;00m \u001b[39mlen\u001b[39m(\u001b[39mself\u001b[39m\u001b[39m.\u001b[39mmgr_locs) \u001b[39m!=\u001b[39m \u001b[39mlen\u001b[39m(\u001b[39mself\u001b[39m\u001b[39m.\u001b[39mvalues):\n\u001b[0;32m--> 130\u001b[0m     \u001b[39mraise\u001b[39;00m \u001b[39mValueError\u001b[39;00m(\n\u001b[1;32m    131\u001b[0m         \u001b[39mf\u001b[39m\u001b[39m\"\u001b[39m\u001b[39mWrong number of items passed \u001b[39m\u001b[39m{\u001b[39;00m\u001b[39mlen\u001b[39m(\u001b[39mself\u001b[39m\u001b[39m.\u001b[39mvalues)\u001b[39m}\u001b[39;00m\u001b[39m, \u001b[39m\u001b[39m\"\u001b[39m\n\u001b[1;32m    132\u001b[0m         \u001b[39mf\u001b[39m\u001b[39m\"\u001b[39m\u001b[39mplacement implies \u001b[39m\u001b[39m{\u001b[39;00m\u001b[39mlen\u001b[39m(\u001b[39mself\u001b[39m\u001b[39m.\u001b[39mmgr_locs)\u001b[39m}\u001b[39;00m\u001b[39m\"\u001b[39m\n\u001b[1;32m    133\u001b[0m     )\n",
      "\u001b[0;31mValueError\u001b[0m: Wrong number of items passed 3, placement implies 1"
     ]
    }
   ],
   "source": [
    "df = pd.DataFrame({\"Seizure File\": [], \"Seizure Start\":[], \"Seizure End\":[]})\n",
    "temp_ss = []\n",
    "temp_es = []\n",
    "temp_file = []\n",
    "\n",
    "for i in range(len(file_metadata)):\n",
    "    \n",
    "    if file_metadata[i]['Number of Seizures in File'] > 0:\n",
    "        temp_ss.append(int(re.findall('\\d+', file_metadata[i]['Seizure Start Time'])[-1]))\n",
    "        temp_es.append(int(re.findall('\\d+', file_metadata[i]['Seizure End Time'])[-1]))\n",
    "        temp_file.append(file_metadata[i]['File Name'].replace('.edf',''))\n",
    "        \n",
    "        \n",
    "for i in range(len(temp_ss)):\n",
    "    df.loc[len(df)] = [temp_file[i], temp_ss[i], temp_es[i]]      \n",
    "\n",
    "df['Seizure Duration'] = df.apply(lambda x: x['Seizure End'] - x['Seizure Start'], axis=1)\n",
    "df"
   ]
  },
  {
   "cell_type": "code",
   "execution_count": 6,
   "metadata": {},
   "outputs": [],
   "source": [
    "def feature_vector(data, times):\n",
    "\n",
    "    sampling_freq = data.info['sfreq']\n",
    "    start_stop_seconds = np.array(times)\n",
    "    window_size = start_stop_seconds[1]-start_stop_seconds[0]\n",
    "    start_sample, stop_sample = (start_stop_seconds * sampling_freq).astype(int)\n",
    "    eeg_channel_indices = mne.pick_types(data.info, meg=False, eeg=True)\n",
    "    eeg_data, times = data[eeg_channel_indices, start_sample:stop_sample]\n",
    "\n",
    "    coeffs = pywt.wavedec(eeg_data[0:23], \"coif3\", level=7)\n",
    "    cA7, cD7, cD6, cD5, cD4, cD3, cD2, cD1 = coeffs\n",
    "    \n",
    "    band1_mean,band2_mean,band3_mean,band4_mean,band5_mean,band6_mean = [],[],[],[],[],[] # mean\n",
    "    band1_std,band2_std,band3_std,band4_std,band5_std,band6_std = [],[],[],[],[],[] # standard deviation\n",
    "    band1_en, band2_en, band3_en, band4_en, band5_en, band6_en = [],[],[],[],[],[] # energy\n",
    "    band1_max, band2_max, band3_max, band4_max, band5_max, band6_max = [],[],[],[],[],[] # max \n",
    "    band1_min, band2_min, band3_min, band4_min, band5_min, band6_min = [],[],[],[],[],[] # min\n",
    "    band1_skew, band2_skew, band3_skew, band4_skew, band5_skew, band6_skew = [],[],[],[],[],[] #skewness\n",
    "\n",
    "    # Calculate 6 features of DWT coefficients.\n",
    "    for i in range(len(cD1)):\n",
    "        band1_en.append(np.sum(cD7[i, :] ** 2))\n",
    "        band2_en.append(np.sum(cD6[i, :] ** 2))\n",
    "        band3_en.append(np.sum(cD5[i, :] ** 2))\n",
    "        band4_en.append(np.sum(cD4[i, :] ** 2))\n",
    "        band5_en.append(np.sum(cD3[i, :] ** 2))\n",
    "        band6_en.append(np.sum(cD2[i, :] ** 2))\n",
    "\n",
    "        band1_max.append(np.max(cD7[i, :]))\n",
    "        band2_max.append(np.max(cD6[i, :]))\n",
    "        band3_max.append(np.max(cD5[i, :]))\n",
    "        band4_max.append(np.max(cD4[i, :]))\n",
    "        band5_max.append(np.max(cD3[i, :]))\n",
    "        band6_max.append(np.max(cD2[i, :]))\n",
    "\n",
    "        band1_min.append(np.min(cD7[i, :]))\n",
    "        band2_min.append(np.min(cD6[i, :]))\n",
    "        band3_min.append(np.min(cD5[i, :]))\n",
    "        band4_min.append(np.min(cD4[i, :]))\n",
    "        band5_min.append(np.min(cD3[i, :]))\n",
    "        band6_min.append(np.min(cD2[i, :]))\n",
    "\n",
    "        band1_mean.append(np.mean(cD7[i, :]))\n",
    "        band2_mean.append(np.mean(cD6[i, :]))\n",
    "        band3_mean.append(np.mean(cD5[i, :]))\n",
    "        band4_mean.append(np.mean(cD4[i, :]))\n",
    "        band5_mean.append(np.mean(cD3[i, :]))\n",
    "        band6_mean.append(np.mean(cD2[i, :]))\n",
    "\n",
    "        band1_std.append(np.std(cD7[i, :]))\n",
    "        band2_std.append(np.std(cD6[i, :]))\n",
    "        band3_std.append(np.std(cD5[i, :]))\n",
    "        band4_std.append(np.std(cD4[i, :]))\n",
    "        band5_std.append(np.std(cD3[i, :]))\n",
    "        band6_std.append(np.std(cD2[i, :]))\n",
    "\n",
    "        band1_skew.append(skew(cD7[i, :]))\n",
    "        band2_skew.append(skew(cD6[i, :]))\n",
    "        band3_skew.append(skew(cD5[i, :]))\n",
    "        band4_skew.append(skew(cD4[i, :]))\n",
    "        band5_skew.append(skew(cD3[i, :]))\n",
    "        band6_skew.append(skew(cD2[i, :]))\n",
    "\n",
    "    band1_en = (np.array(band1_en).reshape(1, -1))\n",
    "    band2_en = (np.array(band2_en).reshape(1, -1))\n",
    "    band3_en = (np.array(band3_en).reshape(1, -1))\n",
    "    band4_en = (np.array(band4_en).reshape(1, -1))\n",
    "    band5_en = (np.array(band5_en).reshape(1, -1))\n",
    "    band6_en = (np.array(band6_en).reshape(1, -1))\n",
    "\n",
    "    band1_max = np.array(band1_max).reshape(1, -1)\n",
    "    band2_max = np.array(band2_max).reshape(1, -1)\n",
    "    band3_max = np.array(band3_max).reshape(1, -1)\n",
    "    band4_max = np.array(band4_max).reshape(1, -1)\n",
    "    band5_max = np.array(band5_max).reshape(1, -1)\n",
    "    band6_max = np.array(band6_max).reshape(1, -1)\n",
    "\n",
    "    band1_min = np.array(band1_min).reshape(1, -1)\n",
    "    band2_min = np.array(band2_min).reshape(1, -1)\n",
    "    band3_min = np.array(band3_min).reshape(1, -1)\n",
    "    band4_min = np.array(band4_min).reshape(1, -1)\n",
    "    band5_min = np.array(band5_min).reshape(1, -1)\n",
    "    band6_min = np.array(band6_min).reshape(1, -1)\n",
    "\n",
    "    band1_mean = np.array(band1_mean).reshape(1, -1)\n",
    "    band2_mean = np.array(band2_mean).reshape(1, -1)\n",
    "    band3_mean = np.array(band3_mean).reshape(1, -1)\n",
    "    band4_mean = np.array(band4_mean).reshape(1, -1)\n",
    "    band5_mean = np.array(band5_mean).reshape(1, -1)\n",
    "    band6_mean = np.array(band6_mean).reshape(1, -1)\n",
    "\n",
    "    band1_std = np.array(band1_std).reshape(1, -1)\n",
    "    band2_std = np.array(band2_std).reshape(1, -1)\n",
    "    band3_std = np.array(band3_std).reshape(1, -1)\n",
    "    band4_std = np.array(band4_std).reshape(1, -1)\n",
    "    band5_std = np.array(band5_std).reshape(1, -1)\n",
    "    band6_std = np.array(band6_std).reshape(1, -1)\n",
    "\n",
    "    band1_skew = np.array(band1_skew).reshape(1, -1)\n",
    "    band2_skew = np.array(band2_skew).reshape(1, -1)\n",
    "    band3_skew = np.array(band3_skew).reshape(1, -1)\n",
    "    band4_skew = np.array(band4_skew).reshape(1, -1)\n",
    "    band5_skew = np.array(band5_skew).reshape(1, -1)\n",
    "    band6_skew = np.array(band6_skew).reshape(1, -1)\n",
    "\n",
    "    feature_vector = np.concatenate((band1_en, band1_max, band1_min, band1_mean, band1_std, band1_skew,\n",
    "                                    band2_en, band2_max, band2_min, band2_mean, band2_std, band2_skew,\n",
    "                                    band3_en, band3_max, band3_min, band3_mean, band3_std, band3_skew,\n",
    "                                    band4_en, band4_max, band4_min, band4_mean, band4_std, band4_skew,\n",
    "                                    band5_en, band5_max, band5_min, band5_mean, band5_std, band5_skew,\n",
    "                                    band6_en, band6_max, band6_min, band6_mean, band6_std, band6_skew\n",
    "                                        ), axis=0)\n",
    "\n",
    "    # feature vector if 23 x 36 \n",
    "    return feature_vector "
   ]
  },
  {
   "cell_type": "markdown",
   "metadata": {},
   "source": [
    "# Create wavelet features for 3 sec epochs of ictal-states"
   ]
  },
  {
   "cell_type": "code",
   "execution_count": 43,
   "metadata": {},
   "outputs": [],
   "source": [
    "overall_features = []\n",
    "seconds = 3\n",
    "\n",
    "for i in range(df.shape[0]):\n",
    "    time = [df['Seizure Start'][i], df['Seizure End'][i]]\n",
    "    filename = df['Seizure File'][i]\n",
    "    \n",
    "    for j in range(int((math.floor(df[\"Seizure Duration\"][i])/seconds))):\n",
    "        data = mne.io.read_raw_edf(input_fname=f'{rootdir}{case}/{filename}.edf', preload=False, verbose='Error')\n",
    "        times = [df['Seizure Start'][i] + j*seconds, df['Seizure Start'][i] +j*seconds + seconds]\n",
    "        overall_features.append(feature_vector(data, times)) \n",
    "        \n",
    "\n",
    "overall_features = np.reshape(overall_features, (146,23*36))\n",
    "np.shape(overall_features)  \n",
    "\n",
    "savename =  case + '_feature_ictal' + '.npy'\n",
    "dir = os.path.join(rootdir+case+\"/feature_ictal\")\n",
    "    \n",
    "if not os.path.exists(dir):\n",
    "    os.mkdir(dir)\n",
    "            \n",
    "savepath = f'{dir}/{savename}'\n",
    "np.save(savepath, overall_features)  \n",
    "\n",
    "savename =  case + '_feature_ictal' + '.npy'\n",
    "dir = os.path.join(rootdir+case+\"/feature_ictal\")\n",
    "    \n",
    "if not os.path.exists(dir):\n",
    "    os.mkdir(dir)\n",
    "            \n",
    "savepath = f'{dir}/{savename}'\n",
    "np.save(savepath, overall_features)  "
   ]
  },
  {
   "cell_type": "code",
   "execution_count": 45,
   "metadata": {},
   "outputs": [
    {
     "data": {
      "text/plain": [
       "42"
      ]
     },
     "execution_count": 45,
     "metadata": {},
     "output_type": "execute_result"
    }
   ],
   "source": [
    "np.shape(overall_features)[0]"
   ]
  },
  {
   "cell_type": "markdown",
   "metadata": {},
   "source": [
    "# Create wavelet features for 3 sec epochs of inter-ictal states"
   ]
  },
  {
   "cell_type": "code",
   "execution_count": 47,
   "metadata": {},
   "outputs": [
    {
     "name": "stderr",
     "output_type": "stream",
     "text": [
      "/Users/martinnguyen/opt/anaconda3/lib/python3.8/site-packages/pywt/_multilevel.py:43: UserWarning: Level value of 7 is too high: all coefficients will experience boundary effects.\n",
      "  warnings.warn(\n"
     ]
    }
   ],
   "source": [
    "overall_features = []\n",
    "seconds = 3\n",
    "\n",
    "for i in range(df.shape[0]):\n",
    "    time = [df['Seizure Start'][i], df['Seizure End'][i]]\n",
    "    filename = df['Seizure File'][i]\n",
    "    \n",
    "    for j in range(6):\n",
    "        data = mne.io.read_raw_edf(input_fname=f'{rootdir}{case}/{filename}.edf', preload=False, verbose='Error')\n",
    "        times = [df['Seizure End'][i] + j*seconds, df['Seizure End'][i] +j*seconds + seconds]\n",
    "        overall_features.append(feature_vector(data, times)) \n",
    "        \n",
    "overall_features = np.reshape(overall_features, (np.shape(overall_features)[0],23*36))\n",
    "np.shape(overall_features)  \n",
    "\n",
    "savename = case +'_feature_interictal' + '.npy'\n",
    "dir = os.path.join(rootdir+case+\"/feature_interictal\")\n",
    "    \n",
    "if not os.path.exists(dir):\n",
    "    os.mkdir(dir)\n",
    "            \n",
    "savepath = f'{dir}/{savename}'\n",
    "np.save(savepath, overall_features)    \n",
    "        "
   ]
  },
  {
   "cell_type": "markdown",
   "metadata": {},
   "source": [
    "# Generate Ictal interval of 10 sec"
   ]
  },
  {
   "cell_type": "code",
   "execution_count": 21,
   "metadata": {},
   "outputs": [],
   "source": [
    "for i in range(df.shape[0]):\n",
    "    marker_start = df['Seizure Start'][i]\n",
    "    marker_end = df['Seizure End'][i]\n",
    "    filename = df['Seizure File'][i]\n",
    "    \n",
    "    data = mne.io \\\n",
    "            .read_raw_edf(input_fname=f'{rootdir}{case}/{filename}.edf', preload=False, verbose='Error') \\\n",
    "            .crop(tmin=marker_start+20-2, tmax=marker_start+20+2) \\\n",
    "            .get_data(picks='all', units='uV', return_times=False)\n",
    "    savename = filename.split('.')[0] + '_ictal' + '.npy'\n",
    "    dir = os.path.join(rootdir+case+\"/ictal\")\n",
    "    \n",
    "    if not os.path.exists(dir):\n",
    "        os.mkdir(dir)\n",
    "            \n",
    "    savepath = f'{dir}/{savename}'\n",
    "    np.save(savepath, data)"
   ]
  },
  {
   "cell_type": "code",
   "execution_count": 42,
   "metadata": {},
   "outputs": [
    {
     "data": {
      "text/plain": [
       "(23, 6913)"
      ]
     },
     "execution_count": 42,
     "metadata": {},
     "output_type": "execute_result"
    }
   ],
   "source": [
    "np.shape(np.load(f'{rootdir}{case}/ictal/chb01_04_ictal.npy'))"
   ]
  },
  {
   "cell_type": "markdown",
   "metadata": {},
   "source": [
    "### Generate pre-ictal interval of 10 sec"
   ]
  },
  {
   "cell_type": "code",
   "execution_count": 22,
   "metadata": {},
   "outputs": [],
   "source": [
    "for i in range(df.shape[0]):\n",
    "    marker_start = df['Seizure Start'][i]\n",
    "    filename = df['Seizure File'][i]\n",
    "    seconds = 2\n",
    "    \n",
    "    data = mne.io \\\n",
    "            .read_raw_edf(input_fname=f'{rootdir}{case}/{filename}.edf', preload=False, verbose='Error') \\\n",
    "            .crop(tmin=marker_start-6*seconds, tmax=marker_start-6*seconds+2) \\\n",
    "            .get_data(picks='all', units='uV', return_times=False)\n",
    "            \n",
    "    savename = filename.split('.')[0] + '_preictal10s' + '.npy'\n",
    "    dir = os.path.join(rootdir+case+\"/preictal_10s\")\n",
    "    \n",
    "    if not os.path.exists(dir):\n",
    "        os.mkdir(dir)\n",
    "            \n",
    "    savepath = f'{dir}/{savename}'\n",
    "    np.save(savepath, data)"
   ]
  },
  {
   "cell_type": "code",
   "execution_count": 37,
   "metadata": {},
   "outputs": [],
   "source": [
    "os.chdir(rootdir+case+\"/feature_ictal\")\n"
   ]
  },
  {
   "cell_type": "code",
   "execution_count": 38,
   "metadata": {},
   "outputs": [
    {
     "data": {
      "text/plain": [
       "(146, 36, 23)"
      ]
     },
     "execution_count": 38,
     "metadata": {},
     "output_type": "execute_result"
    }
   ],
   "source": [
    "x = np.load(\"chb01_feature_ictal.npy\")\n",
    "np.shape(x)"
   ]
  },
  {
   "cell_type": "code",
   "execution_count": 17,
   "metadata": {},
   "outputs": [
    {
     "data": {
      "text/plain": [
       "(23, 513)"
      ]
     },
     "execution_count": 17,
     "metadata": {},
     "output_type": "execute_result"
    }
   ],
   "source": [
    "np.shape(np.load(f'{rootdir}{case}/preictal_10s/chb01_04_preictal10s.npy'))"
   ]
  }
 ],
 "metadata": {
  "kernelspec": {
   "display_name": "Python 3.8.5 ('base')",
   "language": "python",
   "name": "python3"
  },
  "language_info": {
   "codemirror_mode": {
    "name": "ipython",
    "version": 3
   },
   "file_extension": ".py",
   "mimetype": "text/x-python",
   "name": "python",
   "nbconvert_exporter": "python",
   "pygments_lexer": "ipython3",
   "version": "3.8.5"
  },
  "orig_nbformat": 4,
  "vscode": {
   "interpreter": {
    "hash": "af404f03f415c453f2d2cd106887cf66d2956cab21fc1be97213bea542ee67de"
   }
  }
 },
 "nbformat": 4,
 "nbformat_minor": 2
}
