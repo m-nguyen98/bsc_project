{
 "cells": [
  {
   "cell_type": "code",
   "execution_count": 219,
   "metadata": {},
   "outputs": [],
   "source": [
    "import numpy as np\n",
    "import mne\n",
    "from tqdm import tqdm\n",
    "import matplotlib.pyplot as plt\n",
    "import seaborn as sns\n",
    "import pandas as pd\n",
    "import os\n",
    "from sklearn.decomposition import PCA\n",
    "from sklearn import preprocessing"
   ]
  },
  {
   "cell_type": "code",
   "execution_count": 201,
   "metadata": {},
   "outputs": [],
   "source": [
    "def load_EEG(filepath, label):\n",
    "    if label == 'preictal':\n",
    "        data = np.load(filepath)\n",
    "        target = np.ones(data.shape[1])\n",
    "    if label == 'ictal':\n",
    "        data = np.load(filepath)\n",
    "        target = -1\n",
    "    return data, target"
   ]
  },
  {
   "cell_type": "code",
   "execution_count": 232,
   "metadata": {},
   "outputs": [],
   "source": [
    "rootdir = f'{os.getcwd()}/data/'\n",
    "cases = ['chb01', 'chb02', 'chb03']\n",
    "seconds = ['10s']\n",
    "preictal_data = []\n",
    "ictal_data = []\n",
    "\n",
    "for i in range(len(cases)):\n",
    "    \n",
    "    temp_ictal = []\n",
    "    temp_preictal = []\n",
    "    \n",
    "    temp_ictal = os.listdir(rootdir+cases[i]+'/ictal/')\n",
    "    temp_preictal = os.listdir(rootdir+cases[i]+'/preictal_10s/')\n",
    "    \n",
    "    if '.DS_Store' in temp_ictal: temp_ictal.remove('.DS_Store')\n",
    "    if '.DS_Store' in temp_preictal: temp_preictal.remove('.DS_Store')\n",
    "    \n",
    "    \n",
    "    for j in range(len(temp_ictal)):\n",
    "        #load preictal data\n",
    "        pi_filepath = rootdir+cases[i]+'/preictal_10s/'+temp_preictal[j]\n",
    "        pi_data, pi_target = load_EEG(pi_filepath, 'preictal')\n",
    "        \n",
    "        #load ictal data\n",
    "        ic_filepath = rootdir+cases[i]+'/ictal/'+temp_ictal[j]\n",
    "        ic_data, ic_target = load_EEG(ic_filepath, 'ictal')\n",
    "        \n",
    "        #store data in list\n",
    "        preictal_data.append(pi_data)\n",
    "        ictal_data.append(ic_data)\n",
    "\n",
    "\n"
   ]
  },
  {
   "cell_type": "code",
   "execution_count": 233,
   "metadata": {},
   "outputs": [
    {
     "data": {
      "text/plain": [
       "(17, 23, 2561)"
      ]
     },
     "execution_count": 233,
     "metadata": {},
     "output_type": "execute_result"
    }
   ],
   "source": [
    "np.shape(preictal_data)"
   ]
  },
  {
   "cell_type": "code",
   "execution_count": 234,
   "metadata": {},
   "outputs": [],
   "source": [
    "# Flatten data\n",
    "preictal_data_flatten =  np.array([[features_2d.flatten() for features_2d in preictal_data]])\n",
    "ictal_data_flatten = np.array([[features_2d.flatten() for features_2d in ictal_data]])\n",
    "\n",
    "preictal_data_flatten, ictal_data_flatten = preprocessing.normalize(preictal_data_flatten[0]), preprocessing.normalize(ictal_data_flatten[0])\n"
   ]
  },
  {
   "cell_type": "code",
   "execution_count": 235,
   "metadata": {},
   "outputs": [
    {
     "data": {
      "text/plain": [
       "(array([0.07312431, 0.07032279]), array([0.07312431, 0.07032279]))"
      ]
     },
     "execution_count": 235,
     "metadata": {},
     "output_type": "execute_result"
    }
   ],
   "source": [
    "pca = PCA(n_components=2)\n",
    "A = pca.fit(preictal_data_flatten)\n",
    "B = pca.fit(ictal_data_flatten)\n",
    "\n",
    "A.explained_variance_ratio_, B.explained_variance_ratio_"
   ]
  },
  {
   "cell_type": "code",
   "execution_count": 236,
   "metadata": {},
   "outputs": [
    {
     "data": {
      "text/plain": [
       "((17, 2), (17, 2))"
      ]
     },
     "execution_count": 236,
     "metadata": {},
     "output_type": "execute_result"
    }
   ],
   "source": [
    "pca_features=pca.fit_transform(preictal_data_flatten)\n",
    "pca_features.shape\n",
    "\n",
    "pca_features1=pca.fit_transform(ictal_data_flatten)\n",
    "\n",
    "pca_features.shape, pca_features1.shape"
   ]
  },
  {
   "cell_type": "code",
   "execution_count": 237,
   "metadata": {},
   "outputs": [],
   "source": [
    "x1 = pca_features[:,0].tolist()\n",
    "x2 = pca_features[:,1].tolist()\n",
    "\n",
    "x3 = pca_features1[:,0].tolist()\n",
    "x4 = pca_features1[:,1].tolist()"
   ]
  },
  {
   "cell_type": "code",
   "execution_count": 238,
   "metadata": {},
   "outputs": [
    {
     "data": {
      "image/png": "[encoded data removed]",
      "text/plain": [
       "<Figure size 640x480 with 1 Axes>"
      ]
     },
     "metadata": {},
     "output_type": "display_data"
    }
   ],
   "source": [
    "plt.figure()\n",
    "plt.plot(x1,x2,'.', label = 'Pre-Ictal')\n",
    "plt.plot(x3,x4, '.', label = 'Ictal')\n",
    "\n",
    "plt.legend()\n",
    "plt.show()"
   ]
  },
  {
   "cell_type": "code",
   "execution_count": 239,
   "metadata": {},
   "outputs": [
    {
     "data": {
      "text/plain": [
       "array([[-0.16823729,  0.23995497],\n",
       "       [-0.22270016, -0.13607748],\n",
       "       [ 0.47412979,  0.08417055],\n",
       "       [-0.19670533,  0.14534438],\n",
       "       [-0.45218311, -0.14503644],\n",
       "       [-0.1119398 , -0.00451183],\n",
       "       [-0.44779421, -0.30560889],\n",
       "       [ 0.05212468,  0.06931312],\n",
       "       [-0.05648457, -0.18031628],\n",
       "       [ 0.17437302,  0.31672373],\n",
       "       [ 0.43255506, -0.26546904],\n",
       "       [-0.08758105, -0.31404941],\n",
       "       [ 0.05176553,  0.14613461],\n",
       "       [-0.12199587,  0.54715486],\n",
       "       [ 0.14126406, -0.29516033],\n",
       "       [ 0.10372229,  0.38395883],\n",
       "       [ 0.43568695, -0.28652535]])"
      ]
     },
     "execution_count": 239,
     "metadata": {},
     "output_type": "execute_result"
    }
   ],
   "source": [
    "pca_features"
   ]
  },
  {
   "cell_type": "code",
   "execution_count": 241,
   "metadata": {},
   "outputs": [
    {
     "data": {
      "text/html": [
       "<div>\n",
       "<style scoped>\n",
       "    .dataframe tbody tr th:only-of-type {\n",
       "        vertical-align: middle;\n",
       "    }\n",
       "\n",
       "    .dataframe tbody tr th {\n",
       "        vertical-align: top;\n",
       "    }\n",
       "\n",
       "    .dataframe thead th {\n",
       "        text-align: right;\n",
       "    }\n",
       "</style>\n",
       "<table border=\"1\" class=\"dataframe\">\n",
       "  <thead>\n",
       "    <tr style=\"text-align: right;\">\n",
       "      <th></th>\n",
       "      <th>Feature 1</th>\n",
       "      <th>Feature 2</th>\n",
       "      <th>Interval</th>\n",
       "    </tr>\n",
       "  </thead>\n",
       "  <tbody>\n",
       "    <tr>\n",
       "      <th>0</th>\n",
       "      <td>-0.168237</td>\n",
       "      <td>0.239955</td>\n",
       "      <td>Preictal</td>\n",
       "    </tr>\n",
       "    <tr>\n",
       "      <th>1</th>\n",
       "      <td>-0.222700</td>\n",
       "      <td>-0.136077</td>\n",
       "      <td>Preictal</td>\n",
       "    </tr>\n",
       "    <tr>\n",
       "      <th>2</th>\n",
       "      <td>0.474130</td>\n",
       "      <td>0.084171</td>\n",
       "      <td>Preictal</td>\n",
       "    </tr>\n",
       "    <tr>\n",
       "      <th>3</th>\n",
       "      <td>-0.196705</td>\n",
       "      <td>0.145344</td>\n",
       "      <td>Preictal</td>\n",
       "    </tr>\n",
       "    <tr>\n",
       "      <th>4</th>\n",
       "      <td>-0.452183</td>\n",
       "      <td>-0.145036</td>\n",
       "      <td>Preictal</td>\n",
       "    </tr>\n",
       "    <tr>\n",
       "      <th>5</th>\n",
       "      <td>-0.111940</td>\n",
       "      <td>-0.004512</td>\n",
       "      <td>Preictal</td>\n",
       "    </tr>\n",
       "    <tr>\n",
       "      <th>6</th>\n",
       "      <td>-0.447794</td>\n",
       "      <td>-0.305609</td>\n",
       "      <td>Preictal</td>\n",
       "    </tr>\n",
       "    <tr>\n",
       "      <th>7</th>\n",
       "      <td>0.052125</td>\n",
       "      <td>0.069313</td>\n",
       "      <td>Preictal</td>\n",
       "    </tr>\n",
       "    <tr>\n",
       "      <th>8</th>\n",
       "      <td>-0.056485</td>\n",
       "      <td>-0.180316</td>\n",
       "      <td>Preictal</td>\n",
       "    </tr>\n",
       "    <tr>\n",
       "      <th>9</th>\n",
       "      <td>0.174373</td>\n",
       "      <td>0.316724</td>\n",
       "      <td>Preictal</td>\n",
       "    </tr>\n",
       "    <tr>\n",
       "      <th>10</th>\n",
       "      <td>0.432555</td>\n",
       "      <td>-0.265469</td>\n",
       "      <td>Preictal</td>\n",
       "    </tr>\n",
       "    <tr>\n",
       "      <th>11</th>\n",
       "      <td>-0.087581</td>\n",
       "      <td>-0.314049</td>\n",
       "      <td>Preictal</td>\n",
       "    </tr>\n",
       "    <tr>\n",
       "      <th>12</th>\n",
       "      <td>0.051766</td>\n",
       "      <td>0.146135</td>\n",
       "      <td>Preictal</td>\n",
       "    </tr>\n",
       "    <tr>\n",
       "      <th>13</th>\n",
       "      <td>-0.121996</td>\n",
       "      <td>0.547155</td>\n",
       "      <td>Preictal</td>\n",
       "    </tr>\n",
       "    <tr>\n",
       "      <th>14</th>\n",
       "      <td>0.141264</td>\n",
       "      <td>-0.295160</td>\n",
       "      <td>Preictal</td>\n",
       "    </tr>\n",
       "    <tr>\n",
       "      <th>15</th>\n",
       "      <td>0.103722</td>\n",
       "      <td>0.383959</td>\n",
       "      <td>Preictal</td>\n",
       "    </tr>\n",
       "    <tr>\n",
       "      <th>16</th>\n",
       "      <td>0.435687</td>\n",
       "      <td>-0.286525</td>\n",
       "      <td>Preictal</td>\n",
       "    </tr>\n",
       "    <tr>\n",
       "      <th>0</th>\n",
       "      <td>0.051186</td>\n",
       "      <td>-0.410798</td>\n",
       "      <td>Ictal</td>\n",
       "    </tr>\n",
       "    <tr>\n",
       "      <th>1</th>\n",
       "      <td>-0.129075</td>\n",
       "      <td>-0.341497</td>\n",
       "      <td>Ictal</td>\n",
       "    </tr>\n",
       "    <tr>\n",
       "      <th>2</th>\n",
       "      <td>-0.297749</td>\n",
       "      <td>-0.368818</td>\n",
       "      <td>Ictal</td>\n",
       "    </tr>\n",
       "    <tr>\n",
       "      <th>3</th>\n",
       "      <td>-0.016029</td>\n",
       "      <td>-0.325098</td>\n",
       "      <td>Ictal</td>\n",
       "    </tr>\n",
       "    <tr>\n",
       "      <th>4</th>\n",
       "      <td>-0.257861</td>\n",
       "      <td>0.188594</td>\n",
       "      <td>Ictal</td>\n",
       "    </tr>\n",
       "    <tr>\n",
       "      <th>5</th>\n",
       "      <td>-0.419808</td>\n",
       "      <td>0.292654</td>\n",
       "      <td>Ictal</td>\n",
       "    </tr>\n",
       "    <tr>\n",
       "      <th>6</th>\n",
       "      <td>0.428370</td>\n",
       "      <td>0.282380</td>\n",
       "      <td>Ictal</td>\n",
       "    </tr>\n",
       "    <tr>\n",
       "      <th>7</th>\n",
       "      <td>0.373000</td>\n",
       "      <td>-0.094754</td>\n",
       "      <td>Ictal</td>\n",
       "    </tr>\n",
       "    <tr>\n",
       "      <th>8</th>\n",
       "      <td>0.349526</td>\n",
       "      <td>0.102350</td>\n",
       "      <td>Ictal</td>\n",
       "    </tr>\n",
       "    <tr>\n",
       "      <th>9</th>\n",
       "      <td>-0.281014</td>\n",
       "      <td>0.415982</td>\n",
       "      <td>Ictal</td>\n",
       "    </tr>\n",
       "    <tr>\n",
       "      <th>10</th>\n",
       "      <td>0.289198</td>\n",
       "      <td>-0.062205</td>\n",
       "      <td>Ictal</td>\n",
       "    </tr>\n",
       "    <tr>\n",
       "      <th>11</th>\n",
       "      <td>0.140034</td>\n",
       "      <td>-0.064452</td>\n",
       "      <td>Ictal</td>\n",
       "    </tr>\n",
       "    <tr>\n",
       "      <th>12</th>\n",
       "      <td>-0.025208</td>\n",
       "      <td>0.231752</td>\n",
       "      <td>Ictal</td>\n",
       "    </tr>\n",
       "    <tr>\n",
       "      <th>13</th>\n",
       "      <td>0.164034</td>\n",
       "      <td>0.300631</td>\n",
       "      <td>Ictal</td>\n",
       "    </tr>\n",
       "    <tr>\n",
       "      <th>14</th>\n",
       "      <td>0.142288</td>\n",
       "      <td>-0.097336</td>\n",
       "      <td>Ictal</td>\n",
       "    </tr>\n",
       "    <tr>\n",
       "      <th>15</th>\n",
       "      <td>-0.201028</td>\n",
       "      <td>0.101123</td>\n",
       "      <td>Ictal</td>\n",
       "    </tr>\n",
       "    <tr>\n",
       "      <th>16</th>\n",
       "      <td>-0.309864</td>\n",
       "      <td>-0.150506</td>\n",
       "      <td>Ictal</td>\n",
       "    </tr>\n",
       "  </tbody>\n",
       "</table>\n",
       "</div>"
      ],
      "text/plain": [
       "    Feature 1  Feature 2  Interval\n",
       "0   -0.168237   0.239955  Preictal\n",
       "1   -0.222700  -0.136077  Preictal\n",
       "2    0.474130   0.084171  Preictal\n",
       "3   -0.196705   0.145344  Preictal\n",
       "4   -0.452183  -0.145036  Preictal\n",
       "5   -0.111940  -0.004512  Preictal\n",
       "6   -0.447794  -0.305609  Preictal\n",
       "7    0.052125   0.069313  Preictal\n",
       "8   -0.056485  -0.180316  Preictal\n",
       "9    0.174373   0.316724  Preictal\n",
       "10   0.432555  -0.265469  Preictal\n",
       "11  -0.087581  -0.314049  Preictal\n",
       "12   0.051766   0.146135  Preictal\n",
       "13  -0.121996   0.547155  Preictal\n",
       "14   0.141264  -0.295160  Preictal\n",
       "15   0.103722   0.383959  Preictal\n",
       "16   0.435687  -0.286525  Preictal\n",
       "0    0.051186  -0.410798     Ictal\n",
       "1   -0.129075  -0.341497     Ictal\n",
       "2   -0.297749  -0.368818     Ictal\n",
       "3   -0.016029  -0.325098     Ictal\n",
       "4   -0.257861   0.188594     Ictal\n",
       "5   -0.419808   0.292654     Ictal\n",
       "6    0.428370   0.282380     Ictal\n",
       "7    0.373000  -0.094754     Ictal\n",
       "8    0.349526   0.102350     Ictal\n",
       "9   -0.281014   0.415982     Ictal\n",
       "10   0.289198  -0.062205     Ictal\n",
       "11   0.140034  -0.064452     Ictal\n",
       "12  -0.025208   0.231752     Ictal\n",
       "13   0.164034   0.300631     Ictal\n",
       "14   0.142288  -0.097336     Ictal\n",
       "15  -0.201028   0.101123     Ictal\n",
       "16  -0.309864  -0.150506     Ictal"
      ]
     },
     "execution_count": 241,
     "metadata": {},
     "output_type": "execute_result"
    }
   ],
   "source": [
    "df = pd.DataFrame({'Feature 1':x1, 'Feature 2':x2})\n",
    "df['Interval'] = 'Preictal'\n",
    "\n",
    "df_2 = pd.DataFrame({'Feature 1':x3, 'Feature 2':x4})\n",
    "df_2['Interval'] = 'Ictal'\n",
    "frames = [df, df_2]\n",
    "rdf = pd.concat(frames)\n",
    "rdf"
   ]
  }
 ],
 "metadata": {
  "kernelspec": {
   "display_name": "Python 3.8.5 ('base')",
   "language": "python",
   "name": "python3"
  },
  "language_info": {
   "codemirror_mode": {
    "name": "ipython",
    "version": 3
   },
   "file_extension": ".py",
   "mimetype": "text/x-python",
   "name": "python",
   "nbconvert_exporter": "python",
   "pygments_lexer": "ipython3",
   "version": "3.8.5"
  },
  "orig_nbformat": 4,
  "vscode": {
   "interpreter": {
    "hash": "af404f03f415c453f2d2cd106887cf66d2956cab21fc1be97213bea542ee67de"
   }
  }
 },
 "nbformat": 4,
 "nbformat_minor": 2
}
