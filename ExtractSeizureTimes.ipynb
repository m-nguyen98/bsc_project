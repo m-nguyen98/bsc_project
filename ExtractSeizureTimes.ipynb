{
 "cells": [
  {
   "cell_type": "code",
   "execution_count": 1,
   "metadata": {},
   "outputs": [],
   "source": [
    "\n",
    "import os\n",
    "import re\n",
    "import random\n",
    "import pprint\n",
    "import mne\n",
    "from mne.io.edf.edf import RawEDF\n",
    "import numpy as np\n",
    "from datetime import datetime\n",
    "import pandas as pd\n"
   ]
  },
  {
   "cell_type": "code",
   "execution_count": 20,
   "metadata": {},
   "outputs": [],
   "source": [
    "rootdir = f'{os.getcwd()}/data/'\n",
    "patient = 'chb01'\n",
    "\n",
    "file_path = f'{rootdir}{patient}/{patient}-summary.txt'"
   ]
  },
  {
   "cell_type": "code",
   "execution_count": 21,
   "metadata": {},
   "outputs": [],
   "source": [
    "file_metadata = []\n",
    "with open(file_path) as f:\n",
    "    content_str = f.read()\n",
    "    regex = re.compile(r'^\\Z|\\*+') # match empty string or literal asterisks\n",
    "    filtered = [x for x in content_str.split('\\n') if not regex.search(x)]\n",
    "    regex = re.compile('Channel \\d+') # match channel numbers\n",
    "    # channels = [x.split(':')[-1].strip() for x in filtered if regex.search(x)]\n",
    "    regex = re.compile('Data Sampling Rate:')\n",
    "    # fs = int([x.split(':')[-1].strip() for x in filtered if regex.search(x)][0].split(' ')[0])\n",
    "    regex = re.compile('^(?!Channel|Data).') # match file names\n",
    "    file_metas = [x for x in filtered if regex.findall(x)]\n",
    "    file_meta = {}\n",
    "    for x in file_metas:\n",
    "        k, v = x.partition(':')[::2]\n",
    "\n",
    "        if k == 'Seizure Start Time':\n",
    "            file_meta['Seizure Start Time'] = v\n",
    "        if k == 'Seizure End Time':\n",
    "            file_meta['Seizure End Time'] = v\n",
    "            tup_meta = {'File Name': file_meta['File Name'], \n",
    "                            'File Start Time': file_meta['File Start Time'], \n",
    "                            'File End Time': file_meta['File End Time'],\n",
    "                            'Number of Seizures in File': file_meta['Number of Seizures in File'],\n",
    "                            'Seizure Start Time': file_meta['Seizure Start Time'],\n",
    "                            'Seizure End Time': file_meta['Seizure End Time']\n",
    "                        }\n",
    "            file_metadata.append(tup_meta)\n",
    "\n",
    "        if k == 'File Name':\n",
    "            file_meta['File Name'] = v.strip()\n",
    "        if k == 'File Start Time':\n",
    "            file_meta['File Start Time'] = v.strip()\n",
    "        if k == 'File End Time':\n",
    "            file_meta['File End Time'] = v.strip()\n",
    "        if k == 'Number of Seizures in File':\n",
    "            if int(v) == 0:\n",
    "                if 'Seizure End Time' in file_meta:\n",
    "                    del file_meta['Seizure End Time']\n",
    "                if 'Seizure Start Time' in file_meta:\n",
    "                    del file_meta['Seizure Start Time']\n",
    "                file_meta['Number of Seizures in File'] = 0\n",
    "                tup_meta = {'File Name': file_meta['File Name'], \n",
    "                            'File Start Time': file_meta['File Start Time'], \n",
    "                            'File End Time': file_meta['File End Time'],\n",
    "                            'Number of Seizures in File': file_meta['Number of Seizures in File']\n",
    "                        }\n",
    "                file_metadata.append(tup_meta)\n",
    "            if int(v) > 0:\n",
    "                file_meta['Number of Seizures in File'] = int(v.strip())"
   ]
  },
  {
   "cell_type": "code",
   "execution_count": 24,
   "metadata": {},
   "outputs": [
    {
     "data": {
      "text/html": [
       "<div>\n",
       "<style scoped>\n",
       "    .dataframe tbody tr th:only-of-type {\n",
       "        vertical-align: middle;\n",
       "    }\n",
       "\n",
       "    .dataframe tbody tr th {\n",
       "        vertical-align: top;\n",
       "    }\n",
       "\n",
       "    .dataframe thead th {\n",
       "        text-align: right;\n",
       "    }\n",
       "</style>\n",
       "<table border=\"1\" class=\"dataframe\">\n",
       "  <thead>\n",
       "    <tr style=\"text-align: right;\">\n",
       "      <th></th>\n",
       "      <th>Seizure File</th>\n",
       "      <th>Seizure Start</th>\n",
       "      <th>Seizure End</th>\n",
       "      <th>Seizure Duration</th>\n",
       "    </tr>\n",
       "  </thead>\n",
       "  <tbody>\n",
       "    <tr>\n",
       "      <th>0</th>\n",
       "      <td>chb01_03</td>\n",
       "      <td>2996.0</td>\n",
       "      <td>3036.0</td>\n",
       "      <td>40.0</td>\n",
       "    </tr>\n",
       "    <tr>\n",
       "      <th>1</th>\n",
       "      <td>chb01_04</td>\n",
       "      <td>1467.0</td>\n",
       "      <td>1494.0</td>\n",
       "      <td>27.0</td>\n",
       "    </tr>\n",
       "    <tr>\n",
       "      <th>2</th>\n",
       "      <td>chb01_15</td>\n",
       "      <td>1732.0</td>\n",
       "      <td>1772.0</td>\n",
       "      <td>40.0</td>\n",
       "    </tr>\n",
       "    <tr>\n",
       "      <th>3</th>\n",
       "      <td>chb01_16</td>\n",
       "      <td>1015.0</td>\n",
       "      <td>1066.0</td>\n",
       "      <td>51.0</td>\n",
       "    </tr>\n",
       "    <tr>\n",
       "      <th>4</th>\n",
       "      <td>chb01_18</td>\n",
       "      <td>1720.0</td>\n",
       "      <td>1810.0</td>\n",
       "      <td>90.0</td>\n",
       "    </tr>\n",
       "    <tr>\n",
       "      <th>5</th>\n",
       "      <td>chb01_21</td>\n",
       "      <td>327.0</td>\n",
       "      <td>420.0</td>\n",
       "      <td>93.0</td>\n",
       "    </tr>\n",
       "    <tr>\n",
       "      <th>6</th>\n",
       "      <td>chb01_26</td>\n",
       "      <td>1862.0</td>\n",
       "      <td>1963.0</td>\n",
       "      <td>101.0</td>\n",
       "    </tr>\n",
       "  </tbody>\n",
       "</table>\n",
       "</div>"
      ],
      "text/plain": [
       "  Seizure File  Seizure Start  Seizure End  Seizure Duration\n",
       "0     chb01_03         2996.0       3036.0              40.0\n",
       "1     chb01_04         1467.0       1494.0              27.0\n",
       "2     chb01_15         1732.0       1772.0              40.0\n",
       "3     chb01_16         1015.0       1066.0              51.0\n",
       "4     chb01_18         1720.0       1810.0              90.0\n",
       "5     chb01_21          327.0        420.0              93.0\n",
       "6     chb01_26         1862.0       1963.0             101.0"
      ]
     },
     "execution_count": 24,
     "metadata": {},
     "output_type": "execute_result"
    }
   ],
   "source": [
    "df = pd.DataFrame({\"Seizure File\": [], \"Seizure Start\":[], \"Seizure End\":[]})\n",
    "temp_ss = []\n",
    "temp_es = []\n",
    "temp_file = []\n",
    "\n",
    "for i in range(len(file_metadata)):\n",
    "    \n",
    "    if file_metadata[i]['Number of Seizures in File'] > 0:\n",
    "        temp_ss.append(int(re.findall('\\d+', file_metadata[i]['Seizure Start Time'])[-1]))\n",
    "        temp_es.append(int(re.findall('\\d+', file_metadata[i]['Seizure End Time'])[-1]))\n",
    "        temp_file.append(file_metadata[i]['File Name'].replace('.edf',''))\n",
    "        \n",
    "        \n",
    "for i in range(len(temp_ss)):\n",
    "    df.loc[len(df)] = [temp_file[i], temp_ss[i], temp_es[i]]      \n",
    "\n",
    "df['Seizure Duration'] = df.apply(lambda x: x['Seizure End'] - x['Seizure Start'], axis=1)\n",
    "df"
   ]
  },
  {
   "cell_type": "code",
   "execution_count": 28,
   "metadata": {},
   "outputs": [
    {
     "data": {
      "text/plain": [
       "1467.0"
      ]
     },
     "execution_count": 28,
     "metadata": {},
     "output_type": "execute_result"
    }
   ],
   "source": [
    "df['Seizure Start'][1]"
   ]
  },
  {
   "cell_type": "code",
   "execution_count": 29,
   "metadata": {},
   "outputs": [
    {
     "ename": "NameError",
     "evalue": "name 'filepath' is not defined",
     "output_type": "error",
     "traceback": [
      "\u001b[0;31m---------------------------------------------------------------------------\u001b[0m",
      "\u001b[0;31mNameError\u001b[0m                                 Traceback (most recent call last)",
      "\u001b[0;32m<ipython-input-29-b5453feb4552>\u001b[0m in \u001b[0;36m<module>\u001b[0;34m\u001b[0m\n\u001b[1;32m      3\u001b[0m     \u001b[0mmarker_end\u001b[0m \u001b[0;34m=\u001b[0m \u001b[0mdf\u001b[0m\u001b[0;34m[\u001b[0m\u001b[0;34m'Seizure End'\u001b[0m\u001b[0;34m]\u001b[0m\u001b[0;34m[\u001b[0m\u001b[0mi\u001b[0m\u001b[0;34m]\u001b[0m\u001b[0;34m\u001b[0m\u001b[0;34m\u001b[0m\u001b[0m\n\u001b[1;32m      4\u001b[0m     \u001b[0mdata\u001b[0m \u001b[0;34m=\u001b[0m \u001b[0mmne\u001b[0m\u001b[0;34m.\u001b[0m\u001b[0mio\u001b[0m\u001b[0;31m \u001b[0m\u001b[0;31m\\\u001b[0m\u001b[0;34m\u001b[0m\u001b[0;34m\u001b[0m\u001b[0m\n\u001b[0;32m----> 5\u001b[0;31m             \u001b[0;34m.\u001b[0m\u001b[0mread_raw_edf\u001b[0m\u001b[0;34m(\u001b[0m\u001b[0minput_fname\u001b[0m\u001b[0;34m=\u001b[0m\u001b[0mfilepath\u001b[0m\u001b[0;34m,\u001b[0m \u001b[0mpreload\u001b[0m\u001b[0;34m=\u001b[0m\u001b[0;32mFalse\u001b[0m\u001b[0;34m,\u001b[0m \u001b[0mverbose\u001b[0m\u001b[0;34m=\u001b[0m\u001b[0;34m'Error'\u001b[0m\u001b[0;34m)\u001b[0m\u001b[0;31m \u001b[0m\u001b[0;31m\\\u001b[0m\u001b[0;34m\u001b[0m\u001b[0;34m\u001b[0m\u001b[0m\n\u001b[0m\u001b[1;32m      6\u001b[0m             \u001b[0;34m.\u001b[0m\u001b[0mcrop\u001b[0m\u001b[0;34m(\u001b[0m\u001b[0mtmin\u001b[0m\u001b[0;34m=\u001b[0m\u001b[0mmarker\u001b[0m\u001b[0;34m-\u001b[0m\u001b[0;36m900\u001b[0m\u001b[0;34m,\u001b[0m \u001b[0mtmax\u001b[0m\u001b[0;34m=\u001b[0m\u001b[0mmarker\u001b[0m\u001b[0;34m)\u001b[0m\u001b[0;31m \u001b[0m\u001b[0;31m\\\u001b[0m\u001b[0;34m\u001b[0m\u001b[0;34m\u001b[0m\u001b[0m\n\u001b[1;32m      7\u001b[0m             \u001b[0;34m.\u001b[0m\u001b[0mget_data\u001b[0m\u001b[0;34m(\u001b[0m\u001b[0mpicks\u001b[0m\u001b[0;34m=\u001b[0m\u001b[0;34m'all'\u001b[0m\u001b[0;34m,\u001b[0m \u001b[0munits\u001b[0m\u001b[0;34m=\u001b[0m\u001b[0;34m'uV'\u001b[0m\u001b[0;34m,\u001b[0m \u001b[0mreturn_times\u001b[0m\u001b[0;34m=\u001b[0m\u001b[0;32mFalse\u001b[0m\u001b[0;34m)\u001b[0m\u001b[0;34m\u001b[0m\u001b[0;34m\u001b[0m\u001b[0m\n",
      "\u001b[0;31mNameError\u001b[0m: name 'filepath' is not defined"
     ]
    }
   ],
   "source": [
    "for i in range(df.shape[0]):\n",
    "    marker_start = df['Seizure Start'][i]\n",
    "    marker_end = df['Seizure End'][i]\n",
    "    data = mne.io \\\n",
    "            .read_raw_edf(input_fname=file_path, preload=False, verbose='Error') \\\n",
    "            .crop(tmin=marker_start, tmax=_marker_end) \\\n",
    "            .get_data(picks='all', units='uV', return_times=False)\n",
    "    savename = filename.split('.')[0] + 'ictal' + '.npy'\n",
    "    savepath = root + case + savename\n",
    "    np.save(savepath, data)"
   ]
  },
  {
   "cell_type": "code",
   "execution_count": 26,
   "metadata": {},
   "outputs": [
    {
     "data": {
      "text/plain": [
       "'chb01_03'"
      ]
     },
     "execution_count": 26,
     "metadata": {},
     "output_type": "execute_result"
    }
   ],
   "source": []
  },
  {
   "cell_type": "code",
   "execution_count": 58,
   "metadata": {},
   "outputs": [
    {
     "data": {
      "text/html": [
       "<div>\n",
       "<style scoped>\n",
       "    .dataframe tbody tr th:only-of-type {\n",
       "        vertical-align: middle;\n",
       "    }\n",
       "\n",
       "    .dataframe tbody tr th {\n",
       "        vertical-align: top;\n",
       "    }\n",
       "\n",
       "    .dataframe thead th {\n",
       "        text-align: right;\n",
       "    }\n",
       "</style>\n",
       "<table border=\"1\" class=\"dataframe\">\n",
       "  <thead>\n",
       "    <tr style=\"text-align: right;\">\n",
       "      <th></th>\n",
       "      <th>Seizure Start</th>\n",
       "      <th>Seizure End</th>\n",
       "      <th>Seizure Duration</th>\n",
       "    </tr>\n",
       "  </thead>\n",
       "  <tbody>\n",
       "    <tr>\n",
       "      <th>0</th>\n",
       "      <td>2996.0</td>\n",
       "      <td>3036.0</td>\n",
       "      <td>40.0</td>\n",
       "    </tr>\n",
       "    <tr>\n",
       "      <th>1</th>\n",
       "      <td>1467.0</td>\n",
       "      <td>1494.0</td>\n",
       "      <td>27.0</td>\n",
       "    </tr>\n",
       "    <tr>\n",
       "      <th>2</th>\n",
       "      <td>1732.0</td>\n",
       "      <td>1772.0</td>\n",
       "      <td>40.0</td>\n",
       "    </tr>\n",
       "    <tr>\n",
       "      <th>3</th>\n",
       "      <td>1015.0</td>\n",
       "      <td>1066.0</td>\n",
       "      <td>51.0</td>\n",
       "    </tr>\n",
       "    <tr>\n",
       "      <th>4</th>\n",
       "      <td>1720.0</td>\n",
       "      <td>1810.0</td>\n",
       "      <td>90.0</td>\n",
       "    </tr>\n",
       "    <tr>\n",
       "      <th>5</th>\n",
       "      <td>327.0</td>\n",
       "      <td>420.0</td>\n",
       "      <td>93.0</td>\n",
       "    </tr>\n",
       "    <tr>\n",
       "      <th>6</th>\n",
       "      <td>1862.0</td>\n",
       "      <td>1963.0</td>\n",
       "      <td>101.0</td>\n",
       "    </tr>\n",
       "  </tbody>\n",
       "</table>\n",
       "</div>"
      ],
      "text/plain": [
       "   Seizure Start  Seizure End  Seizure Duration\n",
       "0         2996.0       3036.0              40.0\n",
       "1         1467.0       1494.0              27.0\n",
       "2         1732.0       1772.0              40.0\n",
       "3         1015.0       1066.0              51.0\n",
       "4         1720.0       1810.0              90.0\n",
       "5          327.0        420.0              93.0\n",
       "6         1862.0       1963.0             101.0"
      ]
     },
     "execution_count": 58,
     "metadata": {},
     "output_type": "execute_result"
    }
   ],
   "source": [
    "import pandas as pd\n",
    "df = pd.DataFrame({\"Seizure Start\":[], \"Seizure End\":[]})\n",
    "temp_ss = []\n",
    "temp_es = []\n",
    "\n",
    "for line in lines:\n",
    "\n",
    "    if re.findall('Seizure Start Time', line):\n",
    "        temp_ss.append(int(re.findall('\\d+', line)[-1]))\n",
    "        \n",
    "    if re.findall('Seizure End Time', line):\n",
    "        temp_es.append(int(re.findall('\\d+', line)[-1])) \n",
    "\n",
    "\n",
    "for i in range(len(temp_ss)):\n",
    "    df.loc[len(df)] = [temp_ss[i], temp_es[i]]       \n",
    "\n",
    "\n",
    "df['Seizure Duration'] = df.apply(lambda x: x['Seizure End'] - x['Seizure Start'], axis=1)\n",
    "df\n"
   ]
  },
  {
   "cell_type": "code",
   "execution_count": 71,
   "metadata": {},
   "outputs": [],
   "source": []
  },
  {
   "cell_type": "code",
   "execution_count": 14,
   "metadata": {},
   "outputs": [
    {
     "data": {
      "text/plain": [
       "{'File Name': 'chb01_02.edf',\n",
       " 'File Start Time': '12:42:57',\n",
       " 'File End Time': '13:42:57',\n",
       " 'Number of Seizures in File': 0}"
      ]
     },
     "execution_count": 14,
     "metadata": {},
     "output_type": "execute_result"
    }
   ],
   "source": [
    "file_metadata[1]"
   ]
  }
 ],
 "metadata": {
  "kernelspec": {
   "display_name": "Python 3.8.5 ('base')",
   "language": "python",
   "name": "python3"
  },
  "language_info": {
   "codemirror_mode": {
    "name": "ipython",
    "version": 3
   },
   "file_extension": ".py",
   "mimetype": "text/x-python",
   "name": "python",
   "nbconvert_exporter": "python",
   "pygments_lexer": "ipython3",
   "version": "3.8.5"
  },
  "orig_nbformat": 4,
  "vscode": {
   "interpreter": {
    "hash": "af404f03f415c453f2d2cd106887cf66d2956cab21fc1be97213bea542ee67de"
   }
  }
 },
 "nbformat": 4,
 "nbformat_minor": 2
}
