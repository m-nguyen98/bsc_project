{
 "cells": [
  {
   "cell_type": "code",
   "execution_count": 1,
   "metadata": {},
   "outputs": [],
   "source": [
    "import os\n",
    "import re\n",
    "import random\n",
    "import pprint\n",
    "import mne\n",
    "from mne.io.edf.edf import RawEDF\n",
    "import numpy as np\n",
    "from datetime import datetime\n",
    "import pandas as pd\n",
    "import pywt\n",
    "from scipy.stats import skew\n",
    "import math\n"
   ]
  },
  {
   "cell_type": "markdown",
   "metadata": {},
   "source": [
    "# Feature Extraction\n",
    "\n",
    "The most discriminative features for CHB-MIT dataset (Chen et. al, 2017):\n",
    "\n",
    "- Energy\n",
    "- Max\n",
    "- Min\n",
    "- Mean\n",
    "- Standard Deviation\n",
    "- Skewness\n",
    "\n",
    "6 features for each sub-band resulting in 6 x 6 = 36 features for channel.\n",
    "\n",
    "## Discrete Wavelet Transformation\n",
    "\n",
    "Discrete Wavelet Transformation (DWT) is a transform that decomposes a given signal into a number of sets, \n",
    "where each set is a time series of coefficients describing the time evolution of the signal in the corresponding frequency band\n",
    "\n",
    "\n"
   ]
  },
  {
   "cell_type": "code",
   "execution_count": 2,
   "metadata": {},
   "outputs": [],
   "source": [
    "def feature_vector(data, times):\n",
    "\n",
    "    sampling_freq = data.info['sfreq']\n",
    "    start_stop_seconds = np.array(times)\n",
    "    window_size = start_stop_seconds[1]-start_stop_seconds[0]\n",
    "    start_sample, stop_sample = (start_stop_seconds * sampling_freq).astype(int)\n",
    "    eeg_channel_indices = mne.pick_types(data.info, meg=False, eeg=True)\n",
    "    eeg_data, times = data[eeg_channel_indices, start_sample:stop_sample]\n",
    "\n",
    "    coeffs = pywt.wavedec(eeg_data[0:23], \"coif3\", level=7)\n",
    "    cA7, cD7, cD6, cD5, cD4, cD3, cD2, cD1 = coeffs\n",
    "    \n",
    "    band1_mean,band2_mean,band3_mean,band4_mean,band5_mean,band6_mean = [],[],[],[],[],[] # mean\n",
    "    band1_std,band2_std,band3_std,band4_std,band5_std,band6_std = [],[],[],[],[],[] # standard deviation\n",
    "    band1_en, band2_en, band3_en, band4_en, band5_en, band6_en = [],[],[],[],[],[] # energy\n",
    "    band1_max, band2_max, band3_max, band4_max, band5_max, band6_max = [],[],[],[],[],[] # max \n",
    "    band1_min, band2_min, band3_min, band4_min, band5_min, band6_min = [],[],[],[],[],[] # min\n",
    "    band1_skew, band2_skew, band3_skew, band4_skew, band5_skew, band6_skew = [],[],[],[],[],[] #skewness\n",
    "\n",
    "    # Calculate 6 features of DWT coefficients.\n",
    "    for i in range(len(cD1)):\n",
    "        band1_en.append(np.sum(cD7[i, :] ** 2))\n",
    "        band2_en.append(np.sum(cD6[i, :] ** 2))\n",
    "        band3_en.append(np.sum(cD5[i, :] ** 2))\n",
    "        band4_en.append(np.sum(cD4[i, :] ** 2))\n",
    "        band5_en.append(np.sum(cD3[i, :] ** 2))\n",
    "        band6_en.append(np.sum(cD2[i, :] ** 2))\n",
    "\n",
    "        band1_max.append(np.max(cD7[i, :]))\n",
    "        band2_max.append(np.max(cD6[i, :]))\n",
    "        band3_max.append(np.max(cD5[i, :]))\n",
    "        band4_max.append(np.max(cD4[i, :]))\n",
    "        band5_max.append(np.max(cD3[i, :]))\n",
    "        band6_max.append(np.max(cD2[i, :]))\n",
    "\n",
    "        band1_min.append(np.min(cD7[i, :]))\n",
    "        band2_min.append(np.min(cD6[i, :]))\n",
    "        band3_min.append(np.min(cD5[i, :]))\n",
    "        band4_min.append(np.min(cD4[i, :]))\n",
    "        band5_min.append(np.min(cD3[i, :]))\n",
    "        band6_min.append(np.min(cD2[i, :]))\n",
    "\n",
    "        band1_mean.append(np.mean(cD7[i, :]))\n",
    "        band2_mean.append(np.mean(cD6[i, :]))\n",
    "        band3_mean.append(np.mean(cD5[i, :]))\n",
    "        band4_mean.append(np.mean(cD4[i, :]))\n",
    "        band5_mean.append(np.mean(cD3[i, :]))\n",
    "        band6_mean.append(np.mean(cD2[i, :]))\n",
    "\n",
    "        band1_std.append(np.std(cD7[i, :]))\n",
    "        band2_std.append(np.std(cD6[i, :]))\n",
    "        band3_std.append(np.std(cD5[i, :]))\n",
    "        band4_std.append(np.std(cD4[i, :]))\n",
    "        band5_std.append(np.std(cD3[i, :]))\n",
    "        band6_std.append(np.std(cD2[i, :]))\n",
    "\n",
    "        band1_skew.append(skew(cD7[i, :]))\n",
    "        band2_skew.append(skew(cD6[i, :]))\n",
    "        band3_skew.append(skew(cD5[i, :]))\n",
    "        band4_skew.append(skew(cD4[i, :]))\n",
    "        band5_skew.append(skew(cD3[i, :]))\n",
    "        band6_skew.append(skew(cD2[i, :]))\n",
    "\n",
    "    band1_en = (np.array(band1_en).reshape(1, -1))\n",
    "    band2_en = (np.array(band2_en).reshape(1, -1))\n",
    "    band3_en = (np.array(band3_en).reshape(1, -1))\n",
    "    band4_en = (np.array(band4_en).reshape(1, -1))\n",
    "    band5_en = (np.array(band5_en).reshape(1, -1))\n",
    "    band6_en = (np.array(band6_en).reshape(1, -1))\n",
    "\n",
    "    band1_max = np.array(band1_max).reshape(1, -1)\n",
    "    band2_max = np.array(band2_max).reshape(1, -1)\n",
    "    band3_max = np.array(band3_max).reshape(1, -1)\n",
    "    band4_max = np.array(band4_max).reshape(1, -1)\n",
    "    band5_max = np.array(band5_max).reshape(1, -1)\n",
    "    band6_max = np.array(band6_max).reshape(1, -1)\n",
    "\n",
    "    band1_min = np.array(band1_min).reshape(1, -1)\n",
    "    band2_min = np.array(band2_min).reshape(1, -1)\n",
    "    band3_min = np.array(band3_min).reshape(1, -1)\n",
    "    band4_min = np.array(band4_min).reshape(1, -1)\n",
    "    band5_min = np.array(band5_min).reshape(1, -1)\n",
    "    band6_min = np.array(band6_min).reshape(1, -1)\n",
    "\n",
    "    band1_mean = np.array(band1_mean).reshape(1, -1)\n",
    "    band2_mean = np.array(band2_mean).reshape(1, -1)\n",
    "    band3_mean = np.array(band3_mean).reshape(1, -1)\n",
    "    band4_mean = np.array(band4_mean).reshape(1, -1)\n",
    "    band5_mean = np.array(band5_mean).reshape(1, -1)\n",
    "    band6_mean = np.array(band6_mean).reshape(1, -1)\n",
    "\n",
    "    band1_std = np.array(band1_std).reshape(1, -1)\n",
    "    band2_std = np.array(band2_std).reshape(1, -1)\n",
    "    band3_std = np.array(band3_std).reshape(1, -1)\n",
    "    band4_std = np.array(band4_std).reshape(1, -1)\n",
    "    band5_std = np.array(band5_std).reshape(1, -1)\n",
    "    band6_std = np.array(band6_std).reshape(1, -1)\n",
    "\n",
    "    band1_skew = np.array(band1_skew).reshape(1, -1)\n",
    "    band2_skew = np.array(band2_skew).reshape(1, -1)\n",
    "    band3_skew = np.array(band3_skew).reshape(1, -1)\n",
    "    band4_skew = np.array(band4_skew).reshape(1, -1)\n",
    "    band5_skew = np.array(band5_skew).reshape(1, -1)\n",
    "    band6_skew = np.array(band6_skew).reshape(1, -1)\n",
    "\n",
    "    feature_vector = np.concatenate((band1_en, band1_max, band1_min, band1_mean, band1_std, band1_skew,\n",
    "                                    band2_en, band2_max, band2_min, band2_mean, band2_std, band2_skew,\n",
    "                                    band3_en, band3_max, band3_min, band3_mean, band3_std, band3_skew,\n",
    "                                    band4_en, band4_max, band4_min, band4_mean, band4_std, band4_skew,\n",
    "                                    band5_en, band5_max, band5_min, band5_mean, band5_std, band5_skew,\n",
    "                                    band6_en, band6_max, band6_min, band6_mean, band6_std, band6_skew\n",
    "                                        ), axis=0)\n",
    "\n",
    "    # feature vector if 23 x 36 \n",
    "    return feature_vector "
   ]
  },
  {
   "cell_type": "markdown",
   "metadata": {},
   "source": [
    "# Epochs\n",
    "Since EEG-signals are continuous and non-stationary, epochs are then defined as time segments; in our case, a 2-second epoch has the dimension of 23 x 512 (sample size 256 Hz)\n",
    "\n",
    "## Create wavelet features for 3 sec epochs of ictal-states\n",
    "We try and take the middle of the signal "
   ]
  },
  {
   "cell_type": "code",
   "execution_count": 3,
   "metadata": {},
   "outputs": [],
   "source": [
    "def feature_vectors_ictal(df, seconds):\n",
    "    overall_features = []\n",
    "    rootdir = f'{os.getcwd()}/data/'\n",
    "    seconds = seconds/2\n",
    "    \n",
    "    for i in range(df.shape[0]):\n",
    "        folder = df['case'][i]\n",
    "        filename = df['seizure_file'][i]\n",
    "        time = round((df['seizure_start'][i]+df['seizure_end'][i])/2)\n",
    "        \n",
    "        data = mne.io.read_raw_edf(input_fname=f'{rootdir}{folder}/{filename}.edf', preload=False, verbose='Error')\n",
    "        times = [round(time - seconds), round(time + seconds)]\n",
    "        overall_features.append(feature_vector(data, times)) \n",
    "            \n",
    "\n",
    "    overall_features = np.reshape(overall_features, (np.shape(overall_features[0]),23*36))\n",
    "    \n",
    "    return overall_features\n",
    "\n",
    "    #savename =  case + '_feature_ictal' + '.npy'\n",
    "    #dir = os.path.join(rootdir+case+\"/feature_ictal\")\n",
    "        \n",
    "    #if not os.path.exists(dir):\n",
    "    #    os.mkdir(dir)\n",
    "                \n",
    "    #savepath = f'{dir}/{savename}'\n",
    "    #np.save(savepath, overall_features)"
   ]
  },
  {
   "cell_type": "code",
   "execution_count": 11,
   "metadata": {},
   "outputs": [
    {
     "name": "stderr",
     "output_type": "stream",
     "text": [
      "/Users/martinnguyen/opt/anaconda3/lib/python3.8/site-packages/pywt/_multilevel.py:43: UserWarning: Level value of 7 is too high: all coefficients will experience boundary effects.\n",
      "  warnings.warn(\n"
     ]
    },
    {
     "data": {
      "text/plain": [
       "(36, 23)"
      ]
     },
     "execution_count": 11,
     "metadata": {},
     "output_type": "execute_result"
    }
   ],
   "source": [
    "df = pd.read_excel('output.xlsx', index_col=0)\n",
    "seconds = 3/2\n",
    "rootdir = f'{os.getcwd()}/data/'\n",
    "\n",
    "folder = df['case'][0]\n",
    "filename = df['seizure_file'][0]\n",
    "time = round((df['seizure_start'][0]+df['seizure_end'][0])/2)\n",
    "\n",
    "\n",
    "times = [math.floor(time - seconds), math.floor(time + seconds)]\n",
    "times\n",
    "\n",
    "data = mne.io.read_raw_edf(input_fname=f'{rootdir}{folder}/{filename}.edf', preload=False, verbose='Error')\n",
    "np.shape(feature_vector(data, times))"
   ]
  },
  {
   "cell_type": "code",
   "execution_count": 15,
   "metadata": {},
   "outputs": [
    {
     "name": "stderr",
     "output_type": "stream",
     "text": [
      "/Users/martinnguyen/opt/anaconda3/lib/python3.8/site-packages/pywt/_multilevel.py:43: UserWarning: Level value of 7 is too high: all coefficients will experience boundary effects.\n",
      "  warnings.warn(\n"
     ]
    },
    {
     "ename": "ValueError",
     "evalue": "No data in this range",
     "output_type": "error",
     "traceback": [
      "\u001b[0;31m---------------------------------------------------------------------------\u001b[0m",
      "\u001b[0;31mValueError\u001b[0m                                Traceback (most recent call last)",
      "Cell \u001b[0;32mIn [15], line 4\u001b[0m\n\u001b[1;32m      1\u001b[0m df \u001b[38;5;241m=\u001b[39m pd\u001b[38;5;241m.\u001b[39mread_excel(\u001b[38;5;124m'\u001b[39m\u001b[38;5;124moutput.xlsx\u001b[39m\u001b[38;5;124m'\u001b[39m, index_col\u001b[38;5;241m=\u001b[39m\u001b[38;5;241m0\u001b[39m)\n\u001b[1;32m      2\u001b[0m seconds \u001b[38;5;241m=\u001b[39m \u001b[38;5;241m5\u001b[39m\n\u001b[0;32m----> 4\u001b[0m ictal_vector \u001b[38;5;241m=\u001b[39m \u001b[43mfeature_vectors_ictal\u001b[49m\u001b[43m(\u001b[49m\u001b[43mdf\u001b[49m\u001b[43m,\u001b[49m\u001b[43m \u001b[49m\u001b[43mseconds\u001b[49m\u001b[43m)\u001b[49m\n",
      "Cell \u001b[0;32mIn [3], line 13\u001b[0m, in \u001b[0;36mfeature_vectors_ictal\u001b[0;34m(df, seconds)\u001b[0m\n\u001b[1;32m     11\u001b[0m     data \u001b[38;5;241m=\u001b[39m mne\u001b[38;5;241m.\u001b[39mio\u001b[38;5;241m.\u001b[39mread_raw_edf(input_fname\u001b[38;5;241m=\u001b[39m\u001b[38;5;124mf\u001b[39m\u001b[38;5;124m'\u001b[39m\u001b[38;5;132;01m{\u001b[39;00mrootdir\u001b[38;5;132;01m}\u001b[39;00m\u001b[38;5;132;01m{\u001b[39;00mfolder\u001b[38;5;132;01m}\u001b[39;00m\u001b[38;5;124m/\u001b[39m\u001b[38;5;132;01m{\u001b[39;00mfilename\u001b[38;5;132;01m}\u001b[39;00m\u001b[38;5;124m.edf\u001b[39m\u001b[38;5;124m'\u001b[39m, preload\u001b[38;5;241m=\u001b[39m\u001b[38;5;28;01mFalse\u001b[39;00m, verbose\u001b[38;5;241m=\u001b[39m\u001b[38;5;124m'\u001b[39m\u001b[38;5;124mError\u001b[39m\u001b[38;5;124m'\u001b[39m)\n\u001b[1;32m     12\u001b[0m     times \u001b[38;5;241m=\u001b[39m [\u001b[38;5;28mround\u001b[39m(time \u001b[38;5;241m-\u001b[39m seconds), \u001b[38;5;28mround\u001b[39m(time \u001b[38;5;241m+\u001b[39m seconds)]\n\u001b[0;32m---> 13\u001b[0m     overall_features\u001b[38;5;241m.\u001b[39mappend(\u001b[43mfeature_vector\u001b[49m\u001b[43m(\u001b[49m\u001b[43mdata\u001b[49m\u001b[43m,\u001b[49m\u001b[43m \u001b[49m\u001b[43mtimes\u001b[49m\u001b[43m)\u001b[49m) \n\u001b[1;32m     16\u001b[0m overall_features \u001b[38;5;241m=\u001b[39m np\u001b[38;5;241m.\u001b[39mreshape(overall_features, (np\u001b[38;5;241m.\u001b[39mshape(overall_features[\u001b[38;5;241m0\u001b[39m]),\u001b[38;5;241m23\u001b[39m\u001b[38;5;241m*\u001b[39m\u001b[38;5;241m36\u001b[39m))\n\u001b[1;32m     18\u001b[0m \u001b[38;5;28;01mreturn\u001b[39;00m overall_features\n",
      "Cell \u001b[0;32mIn [2], line 8\u001b[0m, in \u001b[0;36mfeature_vector\u001b[0;34m(data, times)\u001b[0m\n\u001b[1;32m      6\u001b[0m start_sample, stop_sample \u001b[38;5;241m=\u001b[39m (start_stop_seconds \u001b[38;5;241m*\u001b[39m sampling_freq)\u001b[38;5;241m.\u001b[39mastype(\u001b[38;5;28mint\u001b[39m)\n\u001b[1;32m      7\u001b[0m eeg_channel_indices \u001b[38;5;241m=\u001b[39m mne\u001b[38;5;241m.\u001b[39mpick_types(data\u001b[38;5;241m.\u001b[39minfo, meg\u001b[38;5;241m=\u001b[39m\u001b[38;5;28;01mFalse\u001b[39;00m, eeg\u001b[38;5;241m=\u001b[39m\u001b[38;5;28;01mTrue\u001b[39;00m)\n\u001b[0;32m----> 8\u001b[0m eeg_data, times \u001b[38;5;241m=\u001b[39m \u001b[43mdata\u001b[49m\u001b[43m[\u001b[49m\u001b[43meeg_channel_indices\u001b[49m\u001b[43m,\u001b[49m\u001b[43m \u001b[49m\u001b[43mstart_sample\u001b[49m\u001b[43m:\u001b[49m\u001b[43mstop_sample\u001b[49m\u001b[43m]\u001b[49m\n\u001b[1;32m     10\u001b[0m coeffs \u001b[38;5;241m=\u001b[39m pywt\u001b[38;5;241m.\u001b[39mwavedec(eeg_data[\u001b[38;5;241m0\u001b[39m:\u001b[38;5;241m23\u001b[39m], \u001b[38;5;124m\"\u001b[39m\u001b[38;5;124mcoif3\u001b[39m\u001b[38;5;124m\"\u001b[39m, level\u001b[38;5;241m=\u001b[39m\u001b[38;5;241m7\u001b[39m)\n\u001b[1;32m     11\u001b[0m cA7, cD7, cD6, cD5, cD4, cD3, cD2, cD1 \u001b[38;5;241m=\u001b[39m coeffs\n",
      "File \u001b[0;32m~/opt/anaconda3/lib/python3.8/site-packages/mne/io/base.py:807\u001b[0m, in \u001b[0;36mBaseRaw.__getitem__\u001b[0;34m(self, item)\u001b[0m\n\u001b[1;32m    771\u001b[0m \u001b[39mdef\u001b[39;00m \u001b[39m__getitem__\u001b[39m(\u001b[39mself\u001b[39m, item):\n\u001b[1;32m    772\u001b[0m     \u001b[39m\"\"\"Get raw data and times.\u001b[39;00m\n\u001b[1;32m    773\u001b[0m \n\u001b[1;32m    774\u001b[0m \u001b[39m    Parameters\u001b[39;00m\n\u001b[0;32m   (...)\u001b[0m\n\u001b[1;32m    805\u001b[0m \n\u001b[1;32m    806\u001b[0m \u001b[39m    \"\"\"\u001b[39;00m  \u001b[39m# noqa: E501\u001b[39;00m\n\u001b[0;32m--> 807\u001b[0m     \u001b[39mreturn\u001b[39;00m \u001b[39mself\u001b[39;49m\u001b[39m.\u001b[39;49m_getitem(item)\n",
      "File \u001b[0;32m~/opt/anaconda3/lib/python3.8/site-packages/mne/io/base.py:814\u001b[0m, in \u001b[0;36mBaseRaw._getitem\u001b[0;34m(self, item, return_times)\u001b[0m\n\u001b[1;32m    812\u001b[0m     data \u001b[39m=\u001b[39m \u001b[39mself\u001b[39m\u001b[39m.\u001b[39m_data[sel, start:stop]\n\u001b[1;32m    813\u001b[0m \u001b[39melse\u001b[39;00m:\n\u001b[0;32m--> 814\u001b[0m     data \u001b[39m=\u001b[39m \u001b[39mself\u001b[39;49m\u001b[39m.\u001b[39;49m_read_segment(start\u001b[39m=\u001b[39;49mstart, stop\u001b[39m=\u001b[39;49mstop, sel\u001b[39m=\u001b[39;49msel,\n\u001b[1;32m    815\u001b[0m                               projector\u001b[39m=\u001b[39;49m\u001b[39mself\u001b[39;49m\u001b[39m.\u001b[39;49m_projector)\n\u001b[1;32m    817\u001b[0m \u001b[39mif\u001b[39;00m return_times:\n\u001b[1;32m    818\u001b[0m     \u001b[39m# Rather than compute the entire thing just compute the subset\u001b[39;00m\n\u001b[1;32m    819\u001b[0m     \u001b[39m# times = self.times[start:stop]\u001b[39;00m\n\u001b[1;32m    820\u001b[0m     \u001b[39m# stop can be None here so don't use it directly\u001b[39;00m\n\u001b[1;32m    821\u001b[0m     times \u001b[39m=\u001b[39m np\u001b[39m.\u001b[39marange(start, start \u001b[39m+\u001b[39m data\u001b[39m.\u001b[39mshape[\u001b[39m1\u001b[39m], dtype\u001b[39m=\u001b[39m\u001b[39mfloat\u001b[39m)\n",
      "File \u001b[0;32m<decorator-gen-199>:22\u001b[0m, in \u001b[0;36m_read_segment\u001b[0;34m(self, start, stop, sel, data_buffer, projector, verbose)\u001b[0m\n",
      "File \u001b[0;32m~/opt/anaconda3/lib/python3.8/site-packages/mne/io/base.py:377\u001b[0m, in \u001b[0;36mBaseRaw._read_segment\u001b[0;34m(self, start, stop, sel, data_buffer, projector, verbose)\u001b[0m\n\u001b[1;32m    374\u001b[0m stop \u001b[39m=\u001b[39m \u001b[39mself\u001b[39m\u001b[39m.\u001b[39mn_times \u001b[39mif\u001b[39;00m stop \u001b[39mis\u001b[39;00m \u001b[39mNone\u001b[39;00m \u001b[39melse\u001b[39;00m \u001b[39mmin\u001b[39m([\u001b[39mint\u001b[39m(stop), \u001b[39mself\u001b[39m\u001b[39m.\u001b[39mn_times])\n\u001b[1;32m    376\u001b[0m \u001b[39mif\u001b[39;00m start \u001b[39m>\u001b[39m\u001b[39m=\u001b[39m stop:\n\u001b[0;32m--> 377\u001b[0m     \u001b[39mraise\u001b[39;00m \u001b[39mValueError\u001b[39;00m(\u001b[39m'\u001b[39m\u001b[39mNo data in this range\u001b[39m\u001b[39m'\u001b[39m)\n\u001b[1;32m    379\u001b[0m \u001b[39m#  Initialize the data and calibration vector\u001b[39;00m\n\u001b[1;32m    380\u001b[0m \u001b[39mif\u001b[39;00m sel \u001b[39mis\u001b[39;00m \u001b[39mNone\u001b[39;00m:\n",
      "\u001b[0;31mValueError\u001b[0m: No data in this range"
     ]
    }
   ],
   "source": [
    "df = pd.read_excel('output.xlsx', index_col=0)\n",
    "seconds = 5\n",
    "\n",
    "ictal_vector = feature_vectors_ictal(df, seconds)"
   ]
  },
  {
   "cell_type": "code",
   "execution_count": 49,
   "metadata": {},
   "outputs": [
    {
     "data": {
      "text/plain": [
       "'chb01'"
      ]
     },
     "execution_count": 49,
     "metadata": {},
     "output_type": "execute_result"
    }
   ],
   "source": []
  }
 ],
 "metadata": {
  "kernelspec": {
   "display_name": "Python 3.8.5 ('base')",
   "language": "python",
   "name": "python3"
  },
  "language_info": {
   "codemirror_mode": {
    "name": "ipython",
    "version": 3
   },
   "file_extension": ".py",
   "mimetype": "text/x-python",
   "name": "python",
   "nbconvert_exporter": "python",
   "pygments_lexer": "ipython3",
   "version": "3.8.5"
  },
  "orig_nbformat": 4,
  "vscode": {
   "interpreter": {
    "hash": "af404f03f415c453f2d2cd106887cf66d2956cab21fc1be97213bea542ee67de"
   }
  }
 },
 "nbformat": 4,
 "nbformat_minor": 2
}
