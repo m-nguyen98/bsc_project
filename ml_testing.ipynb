{
 "cells": [
  {
   "cell_type": "code",
   "execution_count": 2,
   "metadata": {},
   "outputs": [],
   "source": [
    "import numpy as np\n",
    "from keras.callbacks import CSVLogger\n",
    "from keras.callbacks import EarlyStopping\n",
    "from keras.models import Sequential\n",
    "from keras.layers import LSTM, Dropout, Dense, GRU\n",
    "import pandas as pd\n",
    "import os\n",
    "import random"
   ]
  },
  {
   "cell_type": "code",
   "execution_count": 11,
   "metadata": {},
   "outputs": [],
   "source": [
    "df = pd.read_excel('output.xlsx', index_col=0)\n",
    "\n",
    "vecs_ictal = np.load('ictal_feature.npy')\n",
    "vecs_interictal = np.load('interictal_feature.npy')\n",
    "\n",
    "person = np.sort(df[\"patient\"].to_numpy())"
   ]
  },
  {
   "cell_type": "code",
   "execution_count": null,
   "metadata": {},
   "outputs": [],
   "source": [
    "def data_splitter(train_data = [1,2,3,4,5,6,7,8,9,10], validation_data=[11,12], test_data=[13]):\n",
    "    X_train, y_train, X_validation,y_validation, X_test, y_test = [], [], [], [], [], []\n",
    "\n",
    "    for e, per in enumerate(person):\n",
    "        if per+1 in train_data:\n",
    "            X_train.append(all_vecs[per,int(times[e][0]*30):int(times[e][1]*30),:])\n",
    "            y_train.append(labels[e])\n",
    "\n",
    "        if per+1 in validation_data:\n",
    "            X_validation.append(all_vecs[per,int(times[e][0]*30):int(times[e][1]*30),:])\n",
    "            y_validation.append(labels[e])\n",
    "\n",
    "        if per+1 in test_data:\n",
    "            X_test.append(all_vecs[per,int(times[e][0]*30):int(times[e][1]*30),:])\n",
    "            y_test.append(labels[e])\n",
    "    return np.array(X_train), np.array(y_train), np.array(X_validation), np.array(y_validation), np.array(X_test), np.array(y_test)"
   ]
  }
 ],
 "metadata": {
  "kernelspec": {
   "display_name": "Python 3.8.5 ('base')",
   "language": "python",
   "name": "python3"
  },
  "language_info": {
   "codemirror_mode": {
    "name": "ipython",
    "version": 3
   },
   "file_extension": ".py",
   "mimetype": "text/x-python",
   "name": "python",
   "nbconvert_exporter": "python",
   "pygments_lexer": "ipython3",
   "version": "3.8.5"
  },
  "orig_nbformat": 4,
  "vscode": {
   "interpreter": {
    "hash": "af404f03f415c453f2d2cd106887cf66d2956cab21fc1be97213bea542ee67de"
   }
  }
 },
 "nbformat": 4,
 "nbformat_minor": 2
}
